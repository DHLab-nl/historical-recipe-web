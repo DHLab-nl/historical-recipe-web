{
 "cells": [
  {
   "cell_type": "code",
   "execution_count": 1,
   "metadata": {},
   "outputs": [],
   "source": [
    "import pandas as pd\n",
    "import numpy as np\n",
    "import nltk\n",
    "import re\n",
    "import json\n",
    "import ast\n",
    "import seaborn as sns\n",
    "from sklearn.cluster import KMeans\n",
    "import string\n",
    "import matplotlib.pyplot as plt\n",
    "pd.set_option('max_columns', 120)\n",
    "pd.set_option('max_colwidth', 5000)\n",
    "%matplotlib inline\n",
    "plt.rcParams['figure.figsize'] = (12,8)"
   ]
  },
  {
   "cell_type": "markdown",
   "metadata": {},
   "source": [
    "# Clean Allerhande Export"
   ]
  },
  {
   "cell_type": "markdown",
   "metadata": {},
   "source": [
    "This file describes how we cleaned the raw export from the Allerhande site and added columns with features"
   ]
  },
  {
   "cell_type": "code",
   "execution_count": 2,
   "metadata": {},
   "outputs": [],
   "source": [
    "import pandas as pd\n",
    "import ast\n",
    "import re\n",
    "import numpy as np\n",
    "from sklearn.preprocessing import MultiLabelBinarizer"
   ]
  },
  {
   "cell_type": "code",
   "execution_count": 3,
   "metadata": {},
   "outputs": [],
   "source": [
    "df = pd.read_csv('./data/allerhande_raw.csv')\n",
    "df = df.drop(['Unnamed: 0'], axis=1)\n",
    "df = df.drop_duplicates(subset=['id']) #drop duplicates\n",
    "df[\"ingredients\"] =  df[\"ingredients\"].map(lambda d : ast.literal_eval(d))\n",
    "df[\"tags\"] =  df[\"tags\"].map(lambda d : ast.literal_eval(d))"
   ]
  },
  {
   "cell_type": "markdown",
   "metadata": {},
   "source": [
    "# Cleaning"
   ]
  },
  {
   "cell_type": "code",
   "execution_count": 4,
   "metadata": {},
   "outputs": [],
   "source": [
    "df = df[df.id != 429220] #this particular recipe contains many nan values "
   ]
  },
  {
   "cell_type": "markdown",
   "metadata": {},
   "source": [
    "## Ingredients"
   ]
  },
  {
   "cell_type": "markdown",
   "metadata": {},
   "source": [
    "Turn dictionary of ingredients and their quantities into a plain list of all the ingredients"
   ]
  },
  {
   "cell_type": "code",
   "execution_count": 5,
   "metadata": {},
   "outputs": [],
   "source": [
    "ing = []\n",
    "for idx, row in df['ingredients'].iteritems():\n",
    "    x = {k.lower(): v for k, v in row.items()}\n",
    "    x = {k.replace('\\s+', '_'): v for k, v in row.items()}\n",
    "    x = {k.replace('(', ''): v for k, v in row.items()}\n",
    "    x = {k.replace(')', ''): v for k, v in row.items()}\n",
    "    x = {k.replace('_tomeato_gehakt', 'tomeato_gehakt'): v for k, v in row.items()}\n",
    "    k = list(x.keys())\n",
    "    #k = x.keys()\n",
    "    ing.append(k)\n",
    "df['ingredient_list'] = ing\n",
    "#df['ingredient_list'] = df['ingredient_list'].apply(lambda x: sorted(x))\n",
    "\n",
    "df = df.drop('ingredients', axis=1)"
   ]
  },
  {
   "cell_type": "markdown",
   "metadata": {},
   "source": [
    "# Nutritional information"
   ]
  },
  {
   "cell_type": "markdown",
   "metadata": {},
   "source": [
    "Standardize nutritional info "
   ]
  },
  {
   "cell_type": "code",
   "execution_count": 6,
   "metadata": {},
   "outputs": [],
   "source": [
    "nutritional = ['calories', 'protein', 'carbohydrates', 'fat', 'saturated_fat', 'sodium', 'fiber']\n",
    "df[nutritional] = df[nutritional].fillna(-1) #replace NAN values with -1\n",
    "\n",
    "nutritional_g = ['carbohydrates', 'fat', 'saturated_fat','fiber','protein']\n",
    "\n",
    "df[nutritional_g] = df[nutritional_g].replace('g', '', regex=True) #remove g notation\n",
    "\n",
    "df['sodium'] = df['sodium'].str.replace(r'mg', '') #remove mg notation\n",
    "df['calories'] = df['calories'].str.replace(r'kcal', '') #remove kcal notation\n",
    "\n",
    "df[['fat','saturated_fat','fiber']] = df[['fat','saturated_fat','fiber']].replace(',', '.', regex=True)\n",
    "df['sodium'] = df['sodium'].str.replace(r'.', '')\n",
    "\n",
    "df[nutritional] = df[nutritional].apply(pd.to_numeric)\n",
    "df['sodium'] = df['sodium'] / 1000 #convert from mg to g\n",
    "\n",
    "#rename columns to include quantities\n",
    "df.rename(columns={'protein': 'protein (g)', 'carbohydrates': 'carbohydrates (g)',\n",
    "                   'fat': 'fat (g)', 'saturated_fat': 'saturated_fat (g)', \n",
    "                   'fiber': 'fiber (g)', 'sodium': 'sodium (g)', 'calories': 'calories (kcal)'}, inplace=True)"
   ]
  },
  {
   "cell_type": "markdown",
   "metadata": {},
   "source": [
    "# Cooking Time"
   ]
  },
  {
   "cell_type": "code",
   "execution_count": 7,
   "metadata": {},
   "outputs": [],
   "source": [
    "# change cooking time to minutes\n",
    "df['cooking_time'] = df['cooking_time'].str.replace(r' bereiden', '')\n",
    "df['minutes'] = df['cooking_time'].str.extract(r'(\\d{1,2} min)', expand=False)\n",
    "df['minutes'] = df['minutes'].str.replace(r' min', '').str.strip()\n",
    "df['minutes'] = pd.to_numeric(df['minutes'])\n",
    "df['minutes'].fillna(0, inplace=True)\n",
    "df['hours'] = df['cooking_time'].str.replace(r'(\\b\\d{1,2} (min.))', '')\n",
    "df['hours'] = df['hours'].str.replace(r'uur', '')\n",
    "df['hours'] = df['hours'].str.replace(r'u.', '')\n",
    "df['hours'] = df['hours'].str.replace(r'wachten', '')\n",
    "df['hours'] = df['hours'].str.strip()\n",
    "df['hours'] = pd.to_numeric(df['hours'])\n",
    "df['hours'] = df['hours'] * 60\n",
    "df['hours'].fillna(0, inplace=True)\n",
    "df['cooking_time'] = df['minutes'] + df['hours']\n",
    "drop_columns = ['minutes','hours']\n",
    "df = df.drop(drop_columns, axis=1)"
   ]
  },
  {
   "cell_type": "markdown",
   "metadata": {},
   "source": [
    "## Ingredients"
   ]
  },
  {
   "cell_type": "markdown",
   "metadata": {},
   "source": [
    "Import list of ingredients extracted from website and manually cleaned. Remove stopwords, export list of ingredients,\n",
    "and pivot to dummy table. "
   ]
  },
  {
   "cell_type": "code",
   "execution_count": 8,
   "metadata": {},
   "outputs": [],
   "source": [
    "columns = ['id', 'raw', 'ingredient_singular', 'ingredient_plural', 'quantity', 'empty','unit', 'additional information']\n",
    "df_ingredients = pd.read_csv(\"./data/ingredients_full_clean.csv\", names = columns)\n",
    "df_ingredients = df_ingredients.drop('empty', axis=1)\n",
    "df_ingredients['value'] = 1"
   ]
  },
  {
   "cell_type": "code",
   "execution_count": 9,
   "metadata": {},
   "outputs": [],
   "source": [
    "stop = ['(versgemalen)', '(groene)', '(versgeraspte)', '(vierseizoenen)', 'verse', 'Provençaalse']\n",
    "df_ingredients['ingredient_singular_clean'] = df_ingredients['ingredient_singular'].apply(lambda x: ' '.join([word for word in x.split() if word not in (stop)]))\n",
    "\n",
    "df_ingredients['ingredient_singular_clean'] = df_ingredients['ingredient_singular_clean'].str.replace('(', '')\n",
    "df_ingredients['ingredient_singular_clean'] = df_ingredients['ingredient_singular_clean'].str.replace(')', '')"
   ]
  },
  {
   "cell_type": "code",
   "execution_count": 21,
   "metadata": {},
   "outputs": [],
   "source": [
    "#unique_ingredients = pd.DataFrame(df_ingredients['ingredient_singular_clean'].value_counts().keys().unique())\n",
    "#unique_ingredients.to_csv('./data/unique_ingredients.csv', header=None, index=False)\n",
    "\n",
    "unique_ingredients = df_ingredients['ingredient_singular_clean'].value_counts()\n",
    "unique_ingredients.to_csv('./data/unique_ingredients.csv', header=None)\n",
    "\n",
    "unique_units = pd.DataFrame(df_ingredients['unit'].value_counts(5).keys().unique())\n",
    "unique_units.to_csv('./data/unique_units.csv', header=None, index=False)"
   ]
  },
  {
   "cell_type": "code",
   "execution_count": 19,
   "metadata": {},
   "outputs": [
    {
     "data": {
      "text/plain": [
       "Index(['peterselie', 'koriander', 'basilicum', 'munt', 'bieslook',\n",
       "       'platte peterselie', 'olijfolie', 'rucola', 'crème fraîche', 'slagroom',\n",
       "       ...\n",
       "       'kersthagel* zie tip', 'saladbar vinaigrette knoflook tuinkruiden',\n",
       "       'satésaus gadogado', 'Mexicaanse roerbakgroente',\n",
       "       'kaiserbroodje met sesam', 'doosjevol bramen',\n",
       "       'gezouten cashewnoten a 170 g, AH puur fairtrade', 'chocoladehagel',\n",
       "       'Cantuccinikoekjes', ''],\n",
       "      dtype='object', length=2723)"
      ]
     },
     "execution_count": 19,
     "metadata": {},
     "output_type": "execute_result"
    }
   ],
   "source": [
    "unique_ingredients.keys()"
   ]
  },
  {
   "cell_type": "code",
   "execution_count": 12,
   "metadata": {},
   "outputs": [
    {
     "data": {
      "text/plain": [
       "peterselie                                         112\n",
       "koriander                                          108\n",
       "basilicum                                           90\n",
       "munt                                                89\n",
       "bieslook                                            76\n",
       "platte peterselie                                   54\n",
       "olijfolie                                           49\n",
       "rucola                                              46\n",
       "crème fraîche                                       42\n",
       "slagroom                                            42\n",
       "boter                                               40\n",
       "dille                                               40\n",
       "Parmezaanse kaas                                    38\n",
       "knoflook                                            34\n",
       "poedersuiker                                        33\n",
       "zwarte olijven                                      30\n",
       "frambozen                                           29\n",
       "Griekse yoghurt                                     29\n",
       "spinazie                                            29\n",
       "olijfolie extra vierge                              27\n",
       "seroendeng                                          26\n",
       "zoete chilisaus                                     26\n",
       "suiker                                              25\n",
       "kappertjes                                          25\n",
       "geitenkaas                                          24\n",
       "olie                                                23\n",
       "mozzarella                                          23\n",
       "melk                                                23\n",
       "bosuitjes                                           23\n",
       "zonnebloemolie                                      22\n",
       "                                                  ... \n",
       "macaron                                              1\n",
       "minicervelaatworst                                   1\n",
       "zoetzure appel                                       1\n",
       "vierseizoenenpeper                                   1\n",
       "salsa                                                1\n",
       "rucolapesto                                          1\n",
       "chocoladepepernoten                                  1\n",
       "lamsburgers                                          1\n",
       "schelvis                                             1\n",
       "kookvocht                                            1\n",
       "Tivall gegrilde stukjes                              1\n",
       "coburgerham                                          1\n",
       "vlaaivulling kersen                                  1\n",
       "mozarellabolletjes                                   1\n",
       "truffeltapenade                                      1\n",
       "truffel-paddenstoelentapenade                        1\n",
       "lime                                                 1\n",
       "salade pittenmix                                     1\n",
       "MonChou                                              1\n",
       "geraspte                                             1\n",
       "kersthagel* zie tip                                  1\n",
       "saladbar vinaigrette knoflook tuinkruiden            1\n",
       "satésaus gadogado                                    1\n",
       "Mexicaanse roerbakgroente                            1\n",
       "kaiserbroodje met sesam                              1\n",
       "doosjevol bramen                                     1\n",
       "gezouten cashewnoten a 170 g, AH puur fairtrade      1\n",
       "chocoladehagel                                       1\n",
       "Cantuccinikoekjes                                    1\n",
       "                                                     1\n",
       "Name: ingredient_singular_clean, Length: 2723, dtype: int64"
      ]
     },
     "execution_count": 12,
     "metadata": {},
     "output_type": "execute_result"
    }
   ],
   "source": [
    "df_ingredients['ingredient_singular_clean'].value_counts()"
   ]
  },
  {
   "cell_type": "code",
   "execution_count": 67,
   "metadata": {},
   "outputs": [],
   "source": [
    "df_ingredients.to_csv('./data/ingredients_list.csv')"
   ]
  },
  {
   "cell_type": "code",
   "execution_count": 32,
   "metadata": {},
   "outputs": [],
   "source": [
    "dummy_table = df_ingredients.pivot(index='id', columns='ingredient_singular_clean', values='value')\n",
    "\n",
    "## old method to make dummy table. This is based on uncleaned list of ingredients.\n",
    "# dummy_table = pd.DataFrame()\n",
    "# mlb = MultiLabelBinarizer()\n",
    "# dummy_table = df.join(pd.DataFrame(mlb.fit_transform(df['ingredient_list']),\n",
    "#                           columns=mlb.classes_,\n",
    "#                           index=df.index))"
   ]
  },
  {
   "cell_type": "code",
   "execution_count": 33,
   "metadata": {},
   "outputs": [],
   "source": [
    "dummy_table.to_csv('./data/ingredients_dummy.csv')"
   ]
  },
  {
   "cell_type": "markdown",
   "metadata": {},
   "source": [
    "## Recipe Yield"
   ]
  },
  {
   "cell_type": "code",
   "execution_count": 34,
   "metadata": {},
   "outputs": [],
   "source": [
    "#transform recipe yield into two categories one for portion per person one for number of pieces\n",
    "df_personen = df[df.recipe_yield.str.contains('personen', na=False)].copy()\n",
    "df_personen.recipe_yield = df_personen.recipe_yield.str.replace('personen', '')\n",
    "df_personen['recipe_yield_personen'] = pd.to_numeric(df_personen['recipe_yield'])\n",
    "df['recipe_yield_personen'] = df_personen['recipe_yield_personen']"
   ]
  },
  {
   "cell_type": "code",
   "execution_count": 35,
   "metadata": {},
   "outputs": [],
   "source": [
    "df_stuks = df[df.recipe_yield.str.contains('stuks', na=False)].copy()\n",
    "df_stuks.recipe_yield = df_stuks.recipe_yield.str.replace('stuks', '')\n",
    "df_stuks['recipe_yield_stuk'] = pd.to_numeric(df_stuks['recipe_yield'])\n",
    "df['recipe_yield_stuk'] = df_stuks['recipe_yield_stuk']\n",
    "df = df.drop(['recipe_yield'], axis=1)"
   ]
  },
  {
   "cell_type": "markdown",
   "metadata": {},
   "source": [
    "## Type"
   ]
  },
  {
   "cell_type": "code",
   "execution_count": 36,
   "metadata": {},
   "outputs": [],
   "source": [
    "df['source_type'] = df['source']\n",
    "df['source_type'] = df['source_type'].astype(str)\n",
    "df.source_type = df.source_type.apply(lambda x: 'magazine' if 'magazine' in x.lower() else x)\n",
    "df.source_type = df.source_type.apply(lambda x: 'kookboek' if 'kookboek' in x.lower() else x)\n",
    "df.source_type = df.source_type.apply(lambda x: 'receptkaart' if 'receptkaart' in x.lower() else x)\n",
    "df.source_type = df.source_type.apply(lambda x: 'box' if 'allerhande box' in x.lower() else x)\n",
    "threshold = 300 # Anything that occurs less than this will be removed.\n",
    "value_counts = df['source_type'].value_counts()\n",
    "to_remove = value_counts[value_counts <= threshold].index\n",
    "df['source_type'].replace(to_remove, 'other', inplace=True)"
   ]
  },
  {
   "cell_type": "markdown",
   "metadata": {},
   "source": [
    "## Date"
   ]
  },
  {
   "cell_type": "code",
   "execution_count": 37,
   "metadata": {},
   "outputs": [],
   "source": [
    "df[['year_nr1','year_nr2','year_nr3','year_nr4']] = df['source'].str.extractall(r'(\\d{4} nr. \\d{2})').unstack()\n",
    "df[['year_nr1','year_nr2','year_nr3','year_nr4']] = df[['year_nr1','year_nr2','year_nr3','year_nr4']].replace(' nr. ', '.', regex=True)\n",
    "df['minimum_year_nr'] = df.loc[:, ['year_nr1','year_nr2','year_nr3','year_nr4']].astype(float).min(axis=1)"
   ]
  },
  {
   "cell_type": "code",
   "execution_count": 38,
   "metadata": {},
   "outputs": [],
   "source": [
    "df[['year_week1', 'year_week2']] = df['source'].str.extractall(r'(\\d{4} week \\d{2}-\\d{2})').unstack()\n",
    "df[['year_week1','year_week2']] = df[['year_week1','year_week2']].replace(' week ', '.', regex=True)\n",
    "df['year_week1'] = df['year_week1'].str.split('-').str[0].str.strip()\n",
    "df['year_week2'] = df['year_week2'].str.split('-').str[0].str.strip()"
   ]
  },
  {
   "cell_type": "code",
   "execution_count": 39,
   "metadata": {},
   "outputs": [],
   "source": [
    "df[['week_year1','week_year2']] = df['source'].str.extractall(r'(week \\d{2} \\d{4})').unstack()\n",
    "df['week_year1'] = df['week_year1'].str[7:] + '.' + df['week_year1'].str[5:7]\n",
    "df['week_year2'] = df['week_year2'].str[7:] + '.' + df['week_year2'].str[5:7]\n",
    "df['year_week1'] = df['year_week1'].fillna(df['week_year1'])\n",
    "df['year_week2'] = df['year_week2'].fillna(df['week_year2'])\n",
    "df['minimum_year_week'] = df.loc[:, ['year_week1','year_week2']].astype(float).min(axis=1)"
   ]
  },
  {
   "cell_type": "code",
   "execution_count": 40,
   "metadata": {},
   "outputs": [],
   "source": [
    "#only keep first mention\n",
    "drop_cols = ['source', 'year_nr1', 'year_nr2', 'year_nr3', 'year_nr4', 'year_week1', 'year_week2', 'week_year1', 'week_year2']\n",
    "df = df.drop(drop_cols, axis=1)"
   ]
  },
  {
   "cell_type": "markdown",
   "metadata": {
    "collapsed": true
   },
   "source": [
    "# Tags"
   ]
  },
  {
   "cell_type": "code",
   "execution_count": 41,
   "metadata": {},
   "outputs": [],
   "source": [
    "#df['tags'] = df['tags'].apply(lambda x: sorted(x)) #sort tags alphabetically"
   ]
  },
  {
   "cell_type": "code",
   "execution_count": 42,
   "metadata": {},
   "outputs": [],
   "source": [
    "df['tags_str'] = df['tags'].apply(lambda x: ', '.join(x))\n",
    "#split tags into three columns for each tag\n",
    "df = df.join(pd.DataFrame(df.tags.values.tolist()).add_prefix('tag_'))\n"
   ]
  },
  {
   "cell_type": "code",
   "execution_count": 43,
   "metadata": {},
   "outputs": [],
   "source": [
    "# Make a dummy table of all the tags\n",
    "mlb = MultiLabelBinarizer()\n",
    "df_tags_matrix = pd.DataFrame(mlb.fit_transform(df['tags']), columns=mlb.classes_, index=df.index)\n",
    "df_tags_matrix['id'] =  df['id']\n",
    "df_tags_matrix = df_tags_matrix.dropna()\n",
    "df = df.drop('tags', axis=1) #drop dictionary column of tags"
   ]
  },
  {
   "cell_type": "code",
   "execution_count": 44,
   "metadata": {},
   "outputs": [],
   "source": [
    "df_tags_matrix.to_csv('./data/tags_dummy.csv')"
   ]
  },
  {
   "cell_type": "code",
   "execution_count": 99,
   "metadata": {},
   "outputs": [],
   "source": [
    "df.to_csv('./data/allerhande_clean.csv', index=False)"
   ]
  },
  {
   "cell_type": "code",
   "execution_count": null,
   "metadata": {},
   "outputs": [],
   "source": []
  }
 ],
 "metadata": {
  "kernelspec": {
   "display_name": "Python 3",
   "language": "python",
   "name": "python3"
  },
  "language_info": {
   "codemirror_mode": {
    "name": "ipython",
    "version": 3
   },
   "file_extension": ".py",
   "mimetype": "text/x-python",
   "name": "python",
   "nbconvert_exporter": "python",
   "pygments_lexer": "ipython3",
   "version": "3.6.2"
  }
 },
 "nbformat": 4,
 "nbformat_minor": 2
}
