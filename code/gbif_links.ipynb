{
 "cells": [
  {
   "cell_type": "code",
   "execution_count": 17,
   "metadata": {},
   "outputs": [],
   "source": [
    "# This script takes the output of the DBpedia-links file, reads in the scientific name \n",
    "# and tries to find its GBIF record to identify a species' native range \n",
    "\n",
    "# marieke.van.erp@dh.huc.knaw.nl\n",
    "# 17 April 2018 \n",
    "\n",
    "from urllib.request import urlopen\n",
    "import json "
   ]
  },
  {
   "cell_type": "code",
   "execution_count": 44,
   "metadata": {},
   "outputs": [
    {
     "name": "stdout",
     "output_type": "stream",
     "text": [
      "2930262 Southern America (WGSRPD:8)\n"
     ]
    }
   ],
   "source": [
    "def identify_gbif_record(query):\n",
    "    url = \"http://api.gbif.org/v1/species/search?q=\" + query\n",
    "    r = urlopen(url).read()\n",
    "    cont = json.loads(r.decode('utf-8'))\n",
    "    #print(json.dumps(cont, indent=4))\n",
    "    gbif_id = cont[\"results\"][0][\"nubKey\"]\n",
    "    url2 = \"http://api.gbif.org/v1/species/\" + str(gbif_id) + \"/descriptions\"\n",
    "    r2 = urlopen(url2).read()\n",
    "    desc = json.loads(r2.decode('utf-8'))\n",
    "    #print(json.dumps(desc, indent=4))\n",
    "    ranges = []\n",
    "    for x in desc[\"results\"]:\n",
    "        if x[\"type\"] == \"native range\":\n",
    "            ranges.append(x[\"description\"])\n",
    "    return(gbif_id, ranges)\n",
    "\n",
    "#test= identify_gbif_record(\"Solanum%20tuberosum\")\n",
    "#for item in test[1]:\n",
    "#    print(test[0], item)"
   ]
  },
  {
   "cell_type": "code",
   "execution_count": 50,
   "metadata": {},
   "outputs": [],
   "source": [
    "output = open('data/recipe_web/gbif_links_via_dbspotlightmatch.tsv', 'w')\n",
    "output.write('ingredient\\tscientific_name\\tGBIF_id\\tnative_range\\n')\n",
    "with open(\"data/recipe_web/unique_ingredients_with_dbpedia-en-science_links.tsv\", 'r') as f:\n",
    "    for line in f:\n",
    "        line = line.rstrip()\n",
    "        elems = line.split(\"\\t\")\n",
    "        if len(elems) > 9 and len(elems[9]) > 0:\n",
    "            formatted = elems[9].replace(\" \", \"%20\")\n",
    "            try:\n",
    "                native_range = identify_gbif_record(formatted)\n",
    "            except:\n",
    "                native_range = [] \n",
    "            if len(native_range) > 0:\n",
    "                for item in native_range[1]:\n",
    "                    output.write(elems[0] + \"\\t\" + formatted  + \"\\t\" + str(native_range[0]) + \"\\t\" + item +\"\\n\")\n",
    "    \n",
    "output.close()"
   ]
  },
  {
   "cell_type": "code",
   "execution_count": 27,
   "metadata": {},
   "outputs": [],
   "source": [
    "\n",
    "\n",
    " "
   ]
  },
  {
   "cell_type": "code",
   "execution_count": 38,
   "metadata": {},
   "outputs": [
    {
     "name": "stdout",
     "output_type": "stream",
     "text": [
      "Southern America (WGSRPD:8)\n"
     ]
    }
   ],
   "source": []
  },
  {
   "cell_type": "code",
   "execution_count": null,
   "metadata": {},
   "outputs": [],
   "source": []
  }
 ],
 "metadata": {
  "kernelspec": {
   "display_name": "Python 3",
   "language": "python",
   "name": "python3"
  },
  "language_info": {
   "codemirror_mode": {
    "name": "ipython",
    "version": 3
   },
   "file_extension": ".py",
   "mimetype": "text/x-python",
   "name": "python",
   "nbconvert_exporter": "python",
   "pygments_lexer": "ipython3",
   "version": "3.6.3"
  }
 },
 "nbformat": 4,
 "nbformat_minor": 2
}
