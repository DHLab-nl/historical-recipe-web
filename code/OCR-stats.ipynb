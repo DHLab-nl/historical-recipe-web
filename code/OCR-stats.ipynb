{
 "cells": [
  {
   "cell_type": "code",
   "execution_count": null,
   "metadata": {},
   "outputs": [],
   "source": [
    "# This notebook computes and visualises some statistics on the OCR quality of the data \n",
    "# The OCR quality checker from the Dutch Language Institute is currently not yet available, \n",
    "# it will be made available 1 May 2018\n",
    "# To do: add link to that module when it becomes available \n",
    "\n",
    "# marieke.van.erp@dh.huc.knaw.nl\n",
    "# 2 April 2018 \n",
    "\n",
    "\n",
    "import pandas as pd\n",
    "%matplotlib inline\n",
    "import seaborn as sns \n",
    "from dateutil.parser import parse\n",
    "from dateutil.tz import gettz\n",
    "\n",
    "ocr_file = pd.read_table('data/Recipe_Ids_with_ocrQualityIndicator.tsv')\n",
    "\n",
    "\n"
   ]
  },
  {
   "cell_type": "code",
   "execution_count": null,
   "metadata": {},
   "outputs": [],
   "source": [
    "# Plot for comparing OCR over different newspaper titles \n",
    "# Figure 2-left in the paper \n",
    "sns.stripplot(x=\"title\", y=\"0.0\", data=ocr_file, jitter=True)\n"
   ]
  },
  {
   "cell_type": "code",
   "execution_count": null,
   "metadata": {},
   "outputs": [],
   "source": [
    "# To get the OCR quality over time, first create an additional year column \n",
    "ocr_file['year'] = pd.DatetimeIndex(ocr_file['date']).year\n",
    "\n",
    "# And then create 10-year bins \n",
    "ocr_file['binned'] = pd.cut(ocr_file['year'], 10, right=True)\n",
    "\n",
    "# Muck around with some colours and labels \n",
    "plt.figure(figsize=(10,5))\n",
    "\n",
    "text = [\"1945-1950\", \"1950-1955\", '1955-1960', \"1960-1965\", \"1965-1970\",\"1970-1975\", \"1975-1980\", \"1980-1985\", \"1985-1990\", \"1990-1995\"]\n",
    "\n",
    "# plot the figure \n",
    "# Figure 2-right in the paper \n",
    "ax = sns.stripplot(x=ocr_file['binned'], y=\"0.0\", data=ocr_file, jitter=True, palette=sns.light_palette(\"navy\"))\n",
    "ax.set_xticklabels(text, rotation='45', fontsize=10)\n",
    "ax.set_xlabel('Date')\n",
    "ax.set_ylabel('OCR Quality Score')\n",
    "plt.show()\n",
    "\n"
   ]
  }
 ],
 "metadata": {
  "kernelspec": {
   "display_name": "Python 3",
   "language": "python",
   "name": "python3"
  },
  "language_info": {
   "codemirror_mode": {
    "name": "ipython",
    "version": 3
   },
   "file_extension": ".py",
   "mimetype": "text/x-python",
   "name": "python",
   "nbconvert_exporter": "python",
   "pygments_lexer": "ipython3",
   "version": "3.6.3"
  }
 },
 "nbformat": 4,
 "nbformat_minor": 2
}
