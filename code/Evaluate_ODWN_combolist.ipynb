{
 "cells": [
  {
   "cell_type": "code",
   "execution_count": 1,
   "metadata": {},
   "outputs": [],
   "source": [
    "# In this notebook we evaluate the Wordnet based ingredients extraction \n",
    "\n",
    "from glob import glob\n",
    "import pandas as pd\n",
    "\n",
    "# first import all GS files and create a nice datastructure\n",
    "df = pd.DataFrame(columns=['id','category','values'])\n",
    "for name in glob('/data/IngredientQuantitiesUnits_Annotations/EvaluationSet/ba*/*csv'):\n",
    "    name_elems = name.split(\"/\")\n",
    "    file2 = pd.read_csv(name)\n",
    "    for hip, hop in file2.iterrows():\n",
    "        if hop['TYPE'] == \"PERSON\":\n",
    "            row2 = [name_elems[9][:-4], 'INGREDIENTS', name_elems[9][:-4]+\"_\"+hop[\"QUOTE_TRANSCRIPTION\"].lower() ] \n",
    "            df.loc[len(df) ] = row2\n",
    "            row2 = []\n",
    "        if hop['TYPE'] == \"PLACE\":\n",
    "            row3 = [name_elems[9][:-4],  'QUANTITIES', name_elems[9][:-4]+\"_\"+hop[\"QUOTE_TRANSCRIPTION\"].lower() ] \n",
    "            df.loc[len(df) ] = row3\n",
    "            row3 = []\n",
    "        if hop['TYPE'] == \"EVENT\":\n",
    "            row4 = [name_elems[9][:-4],  'OCR', name_elems[9][:-4]+\"_\"+hop[\"QUOTE_TRANSCRIPTION\"].lower() ] \n",
    "            df.loc[len(df)  ] = row4\n",
    "            row4 = []"
   ]
  },
  {
   "cell_type": "code",
   "execution_count": 2,
   "metadata": {},
   "outputs": [],
   "source": [
    "huppeldepupje = pd.DataFrame(columns=['id','category', 'ingr_set'])\n",
    "huppeldepupje = df.groupby(['id','category'])['values'].apply(set)"
   ]
  },
  {
   "cell_type": "code",
   "execution_count": 3,
   "metadata": {},
   "outputs": [],
   "source": [
    "newframe = huppeldepupje.to_frame()\n",
    "newnewframe = newframe.reset_index(level='category')\n",
    "newframe = newnewframe.reset_index(level='id')"
   ]
  },
  {
   "cell_type": "code",
   "execution_count": 4,
   "metadata": {},
   "outputs": [],
   "source": [
    "from pattern.nl import pluralize, singularize\n",
    "\n",
    "def import_list():\n",
    "## IMPORT NEW LIST\n",
    "# import the list of ingredients\n",
    "# Complete list seems to result in a slightly higher recall\n",
    "    list_ = []\n",
    "    #with open(\"ingredient_list.csv\", 'r') as x: # yes it's hard coded, not so neat\n",
    "    with open(\"/data/ingredients_lists/wordnet_ingredients.txt\", 'r') as x: # yes it's hard coded, not so neat\n",
    "        for line in x:\n",
    "            line = line.rstrip()\n",
    "            list_.append(pluralize(line))\n",
    "            list_.append(line)\n",
    "#\tprint(list_)\n",
    "    return(list_)\n",
    "\n",
    "def preprocess_text(t):\n",
    "    tagged_list_ = []\n",
    "    tokenizer = RegexpTokenizer(r'\\w+')\n",
    "    words = tokenizer.tokenize(t)\n",
    "    words = \" \".join(words)\n",
    "    return(words)\n",
    "\n",
    "def detect_ingredients(text,lijst):\n",
    "    ingredients = []\n",
    "    for x in lijst:\n",
    "        x = \" \" + x +\" \"\n",
    "        ingredient = re.search(x, text)\n",
    "        if ingredient:\n",
    "            cleanright = ingredient.group().rstrip()\n",
    "            cleanleft = cleanright.lstrip()\n",
    "            lowercase = cleanleft.lower()            \n",
    "            ingredients.append(lowercase)\n",
    "        unique_ingredients = set(ingredients)\n",
    "#\tprint(\"bla\", unique_ingredients)\n",
    "    return(unique_ingredients)\n",
    "\n",
    "wnlist = import_list()\n",
    "\n",
    "whl = open(\"wnlist_expanded.txt\" ,'w')\n",
    "for x in wnlist:\n",
    "    whl.write(x + \"\\n\")\n",
    "\n",
    "whl.close()"
   ]
  },
  {
   "cell_type": "code",
   "execution_count": 5,
   "metadata": {},
   "outputs": [],
   "source": [
    "import re\n",
    "from nltk.tokenize import sent_tokenize, RegexpTokenizer\n",
    "from glob import glob\n",
    "\n",
    "system_output = {} \n",
    "for filename in glob('/data/IngredientQuantitiesUnits_Annotations/EvaluationSet/ba*/*txt'):\n",
    "    file = open(filename, \"r\") \n",
    "    name_elems = filename.split(\"/\")\n",
    "    artikel = file.read()\n",
    "\n",
    "    ing = preprocess_text(artikel)\n",
    "    #print(ing)\n",
    "    found = detect_ingredients(ing, wnlist)\n",
    "#\tqua = detect_quantities(ing, found)\n",
    "    found_list = list(found)\n",
    "    inbetween = []\n",
    "    for x in found_list:\n",
    "        inbetween.append(name_elems[9][:-4] + \"_\" + x)\n",
    "    found = set(inbetween)\n",
    "    inbetween = []\n",
    "    system_output[name_elems[9][:-4]] = found\n",
    "    found = {}"
   ]
  },
  {
   "cell_type": "code",
   "execution_count": 6,
   "metadata": {},
   "outputs": [],
   "source": [
    "aggregated = pd.DataFrame(columns=['category', 'ingr_set'])\n",
    "aggregated = df.groupby(['category'])['values'].apply(set)\n",
    "aggframe = aggregated.to_frame()\n",
    "aggframe_reset = aggframe.reset_index(level='category')\n"
   ]
  },
  {
   "cell_type": "code",
   "execution_count": 7,
   "metadata": {},
   "outputs": [],
   "source": [
    "sysout_aggregated = []\n",
    "for x in system_output:\n",
    "    for y in system_output[x]:\n",
    "        sysout_aggregated.append(y)\n",
    "        \n",
    "sysout_agg = set(sysout_aggregated)"
   ]
  },
  {
   "cell_type": "code",
   "execution_count": 8,
   "metadata": {},
   "outputs": [],
   "source": [
    "def prec_r_f(a1,a2):\n",
    "    tp = a1.intersection(a2)\n",
    "    fp = a2.difference(a1)\n",
    "    fn = a1.difference(a2)\n",
    "    precision = len(tp) / (len(tp) + len(fp))\n",
    "    recall = len(tp) / (len(tp) + len(fn)) \n",
    "    f = (precision + recall) / 2 \n",
    "    answer = \"\\tItemsGS:\\t\" + str(len(a1)) + \"\\tItemsSystem:\\t\" + str(len(a2)) + \"\\tcorrect:\\t\" + str(len(tp))+ \"\\tp:\\t\" + str(precision) + \"\\tr:\\t\" + str(recall) + \"\\tf1:\\t\" + str(f) + \"\\nin SystemOutput not in GS\" + str(fp) + \"\\nin GS not in SystemOutput\" + str(fn) \n",
    "    return(answer)"
   ]
  },
  {
   "cell_type": "code",
   "execution_count": 9,
   "metadata": {},
   "outputs": [
    {
     "name": "stdout",
     "output_type": "stream",
     "text": [
      "\tItemsGS:\t1686\tItemsSystem:\t1236\tcorrect:\t764\tp:\t0.6181229773462783\tr:\t0.4531435349940688\tf1:\t0.5356332561701735\n",
      "in SystemOutput not in GS{'5366_gerecht', '4411_citroensap', '3840_soep', '3668_wit', '945_zakken', '1815_wijn', '945_witten', '2063_sap', '1343_levensmiddelen', '3395_koekjes', '324_glazuur', '945_dooiers', '995_peper', '4904_kruiden', '1389_soep', '3370_alcohol', '5366_mede', '6842_bouillon', '4997_marinade', '874_saus', '2226_wijn', '2706_schotel', '7034_kloppen', '6428_koffie', '3393_gelei', '2825_wijn', '5259_beslag', '1934_deeg', '6601_rassen', '6694_den', '6694_glazuur', '1934_koekje', '945_happen', '4602_puree', '4978_gerecht', '7419_wijn', '1363_smaakmaker', '1389_pap', '6401_graansoort', '5004_azijn', '7034_crème', '4622_perzik', '7126_saus', '6767_gehakt', '372_saus', '1389_salade', '3553_omdraaien', '2686_kaas', '6056_wit', '4391_kruidnagel', '5340_fris', '6401_wit', '3686_salade', '4082_bloem', '6401_rijst', '7419_saus', '5147_kruiden', '320_citroen', '1716_brood', '1127_zak', '1293_koffie', '5568_schotel', '6541_wijnazijn', '6428_nagerecht', '5004_pepers', '802_struik', '802_beslag', '6601_soep', '5147_pepers', '7126_deeg', '4391_deeg', '2951_flauwekul', '6056_teen', '1911_banaan', '320_gerecht', '798_zuivel', '7235_compote', '1934_ingrediënten', '798_zuivelprodukten', '3823_saus', '3823_tomaat', '247_dooier', '4773_gerechten', '995_eten', '6541_den', '4773_rijst', '3823_rijst', '4622_spinazie', '3840_room', '4799_gerecht', '1119_slaatjes', '995_sojasaus', '4773_kruiden', '6541_salade', '945_dessert', '6428_gehakt', '1911_ingrediënten', '4622_hapje', '7126_perzik', '2857_ingrediënten', '3686_granen', '3686_kaas', '2686_grill', '6401_koren', '3393_kruid', '2089_saus', '4278_wijn', '4710_rijst', '1363_tomaten', '1815_kaas', '3553_sherry', '4799_uitpersen', '7234_crème', '3925_waterkers', '6767_chilipeper', '1042_saus', '4278_omdraaien', '4602_aardappels', '3686_ananas', '6541_bonen', '4278_room', '5259_gerecht', '1127_wijn', '2825_mede', '1716_ingrediënten', '6056_gerecht', '6767_rijst', '320_ingrediënten', '1652_kaas', '874_ovenschotel', '1119_groente', '5341_soep', '3393_gehakt', '1119_drinken', '1716_els', '7419_beslag', '4799_kruiden', '3823_azijn', '4278_maanzaad', '3255_groente', '324_drank', '5673_ingrediënten', '324_mede', '3823_pepers', '1042_ingrediënten', '1716_mayonaise', '3686_kroket', '5147_gerecht', '324_bier', '3475_kaas', '320_witte wijn', '2686_wijn', '6380_roux', '1901_kruiden', '1901_kandeel', '4622_crème', '6839_saus', '1119_zak', '1901_wijn', '4467_soep', '6601_asperges', '1127_sap', '802_lekkernij', '1716_eieren', '6056_ovenschotel', '5366_boon', '3678_koekjes', '3393_inmaken', '4467_brood', '4411_aardappelsalade', '2751_frites', '6767_chilipepers', '6541_ui', '7417_gerecht', '1934_koekjes', '5340_vinaigrette', '1563_brood', '3686_bonen', '995_fondue', '5673_eten', '425_wijn', '1716_voedsel', '4278_gehakt', '2751_patates frites', '7419_witte wijn', '4612_biertje', '1465_eten', '7419_crème', '6056_winde', '6849_kers', '1521_peper', '5893_peper', '1652_azijn', '1563_schotels', '4082_cognac', '4799_laurier', '5673_knoflook', '6159_chilipepers', '1815_puree', '3553_marinade', '3925_kaas', '3395_brood', '3370_gerecht', '7266_grillen', '5259_crème', '3840_dooiers', '6839_gerechten', '2226_schotel', '2192_saus', '2857_ingrediënt', '320_saus', '6380_peperkorrels', '5673_paprika', '5568_nagerechten', '7417_e', '6234_omdraaien', '3553_tomaten', '1119_eten', '3553_ingrediënten', '2825_ei', '6915_soep', '4278_prikken', '5340_saus', '945_drab', '1465_deeg', '4612_feestmaal', '1652_eten', '4710_gerecht', '2825_ingrediënten', '6234_groente', '1652_hapje', '802_boom', '1716_eten', '5366_brood', '4978_kool', '1176_ingrediënten', '324_e', '6234_gerecht', '3255_room', '802_pinda', '3668_planten', '802_rassen', '5568_nagerecht', '4411_eiwit', '4278_citroensap', '7419_basilicum', '7266_barbecue', '1343_gerechten', '6401_peper', '6540_bouillon', '324_eten', '2857_kruid', '1343_ingrediënten', '7419_kaas', '3475_vinaigrette', '2857_dovenetel', '1716_drank', '1716_meel', '2192_salade', '4082_kloppen', '4391_honing', '2089_geroosterd brood', '4467_soepen', '2192_gerecht', '6056_eten', '1652_cheddar', '1563_soep', '3840_zout', '1119_leeftocht', '6839_hapje', '7417_salade', '320_hapje', '3925_kruiden', '6767_pepers', '2226_saus', '7417_es', '4278_brood', '798_crème', '1901_e', '3553_ketjap', '2686_rode wijn', '6234_saus', '1389_gerechten', '6540_saus', '3370_kool', '1901_margriet', '1716_bier', '4622_deeg', '4602_appels', '4997_pepers', '2780_margarine', '5147_kool', '3393_marinade', '6401_omelet', '6541_voorgerecht', '7235_es', '1911_kerrie', '4773_teen', '6056_wingerd', '6767_paprika', '1389_fruitsalade', '1652_salade', '5568_es', '1563_kruiden', '3553_marinades', '1563_sla', '425_room', '4278_bouillon', '2825_deeg', '324_drinken', '5340_ingrediënten', '3553_kruiden', '1127_smaakmakers', '4467_wit', '1042_brood', '3395_soep', '1652_veldsla', '6915_es', '3686_sap', '2675_saus', '2686_barbecue', '6428_chocolade', '1521_tijm', '1521_grill', '2063_ingrediënten', '1716_puree', '1716_schotel', '3686_groente', '2192_sap', '995_omelet', '5893_spaanse peper', '1901_suiker', '1389_flap', '2686_olijf', '4602_appel', '1042_schotel', '7417_fris', '874_dooiers', '3925_eierdooier', '6056_ijs', '4710_salade', '4622_kippesoep', '3840_brandnetels', '6380_soep', '3395_kruiden', '6540_gerecht', '1389_room', '1363_groente', '6839_rijst', '4799_pepers', '802_zouten', '995_feestmaal', '3823_gerecht', '3840_peper', '372_eten', '3840_eten', '6056_wijn', '1389_ingrediënten', '6601_zout', '3393_appel', '4612_kaas', '3475_voorgerecht', '798_soufflé', '247_ingrediënt', '247_deeg', '874_roomsaus', '4467_paprikapoeder', '2192_schotel', '7034_den', '6842_zout', '4278_ijs', '6401_hapje', '1716_es', '5340_salade', '2780_rum', '874_kaas', '5259_drank', '2751_deeg', '3686_bijgerecht', '324_soep', '6234_knol', '4467_groente', '1042_grill', '945_eigeel', '372_kruiden', '5893_kruiden', '5673_olijven', '4602_bloedworst', '5568_kaassaus', '6380_kippesoep', '2857_weilanden', '945_smaakmaker', '1465_es', '5340_zonnebloem', '1815_brood', '324_gang', '5568_eiwit', '4612_eten', '3686_peper', '6601_bouillon', '1716_wijn', '6056_interieur', '3840_kaas', '1465_ingrediënten', '7278_geel', '4710_appelflappen', '1119_soep', '5673_thee', '7234_gerecht', '4411_eigeel', '6401_roomboter', '2857_onkruid', '2089_salade', '1363_gewassen', '1716_schotels', '3255_schotel', '372_bouillon', '4278_wijnsaus', '4082_suiker', '874_schotel', '1716_stokbrood', '247_snack', '1652_e', '6842_soep', '3840_saus', '4612_peper', '6056_klimplanten', '1815_soep', '3475_kruid', '3668_groente', '3925_deeg', '2857_kruiden', '2857_gerecht', '6849_eten', '4978_saus', '1969_brood', '3255_gekookt ei', '6401_room', '2063_cocktail', '995_gerecht', '1119_boom', '5259_dessert', '6056_groente', '320_wijn', '5673_kopje thee', '4978_schotel', '4411_room', '6056_schotel', '3686_ingrediënten', '1901_drank', '425_appel', '995_ingrediënten', '324_riet', '945_vla', '2089_sap', '6159_ingrediënten', '4082_boter', '7266_teen', '6839_eten', '995_sesam', '6380_selderij', '995_chilipepers', '1127_puree', '6541_peper', '5147_saus', '1127_soep', '4612_grill', '1716_saus', '3686_olijf', '6842_ui', '7126_soufflé', '324_boter'}\n",
      "in GS not in SystemOutput{'995_pijnboompitten', '7417_sperciebonen', '4612_zwezerik', '425_oude botert&l', '2226_kabeljauw- of schelvisfilets', '4799_santen', '7419_basi cum', '874_koffïeroom', \"6767_knof'°ok\", '4978_witte koolbladeren', '3668_olie', '5341_rode paprika', '6694_ciderazijn', '1176_vis', \"1465_ker \\\\'\", '7419_pijnboomp ten', '5340_zonnebloemolie', '6380_preitjes', '6541_rode wijnazijn', '1652_varkensfri-o*öten', '3686_vegetarische kroket', '4773_witte rijst', '1716_kabeljauwmoten of staartstukken', '5259_calvados', '6234_tajine', '4622_olie', '4997_water', '6401_lioekweit', '2780_witte rum', '4612_oesterzwammen', '3678_frituurolie', '5259_vanillesuiker', '1389_sinaasappelen', '6428_biscuitjes', '1363_vlees', '4082_gelatine', '1363_olijfolie', '7417_kwarteleitjes', '1293_koffie-extract', '3678_geraspte kaas', '1934_speculaaskruiden', '3686_kidney-bonen', '3925_ham', '6056_parmezaanse kaas', '2686_biefstuk tartaar', '5893_visjes', '7234_macar °ni', '874_paneermeel', '6234_doperwten', '4799_water', '6234_1 kg', '320_kalfsbouillon', '1042_gebaktbrood', '6849_olijfolie', '3840_water', '425_(plante-)boter', '372_lamsvlees', '2192_droge korrelrijst', '7234_crème fraiche', \"1652_pr'ka\", '2192_bamboespruiten', '4799_sereh', '1969_ham', '3678_gomasio', '6380_selderij- of peterselie-stengels', '1119_brandneteltopjes', '372_vlees', '7417_kwartel jes', '4710_santen', '2686_banbeeuesaus', '4799_djeroek poeroetblaadjes', '1563_tomatenpurée', '7417_sinaas» pelsap', '7417_aj', '3823_olie', '3668_kardoen', '3553_tomaten-gembersaus', '3840_zuring', '1042_biefstuk', '7234_msn ippers', '3840_eidooiers', '4612_uien', '5147_sambal ajam', '6849_kappertjes', '425_klapstuk', '320_kalfsschenkel', '1363_ei', '798_eidooiers', '1042_witte saus', '6767_nam pla', '320_vlees', '6767_mtaardige olie', '3668_zeekooi', '4622_perzik uit blik', '6915_t watjes', '425_j\"s of bouillon (tablet)', '1127_wortel', '3686_nasicarré', '6915_kipwuillon', '1127_selderiestengels', '1465_andijvie', '6767_sjalotjes', '874_uien', '4799_salam', '372_bouillon of magere jus', '5341_olie', '1150_kalislapje', '6767_runderlapjes', '1652_shrimps', '1969_p^« selie', '1465_4 dozun', '5259_volle melk', '995_piten', '995_worteltjes', '3925_leidsekaas', '4467_soepgroente', '1389_walnoten', '5004_vissaus', '1465_aardbeien', '5147_verse laos', '7419_parmezaanse kaas', '1176_peptr', '4278_varkensvlees', \"1389_okra's\", '3678_bouquet garni', '4602_ontbijtspek', '1293_plantenmargarine', '7417_japanse rijstwijn', '6234_gemberpoeder', '7419_b ter', '7417_droge sherry', '5147_chinese kool', '7235_rozijnen', '324_galan- sa>', '5147_citroenschil', '4978_olie', '1042_tuinkruiden', '1042_aardbeienoharlotte', '425_ll* cc', '4978_koolbladeren', '1563_snoekbaars', \"1465_f ,epels b'st' % koffielepel w„us,kaat.\", '4082_citroenen', '3370_varkensribbetjes', '5259_crème fraiche', '798_kiwi', '3678_brood', '3686_mais', '1293_kaakjes', '6915_knolselderij', '2226_droge witte wijn', '1901_citroenschil', '3668_snijbiet', '802_pistachenootjes', '425_fri- honing', '2192_eend', '2675_mierikswortels^] holl|', '2675_j ipiel iveree', '5147_kipfilet', '995_sesamzaadjes', '4612_koek', '3686_zwarte olijven', '2192_lychees', '5568_ham', '2089_perzikschijfjes', '4978_sperziebonen', '1716_water', '7419_champignd', '5341_chilipoeder', '6694_droog broodkruim', '7419_cr me fraiche', '247_warka-vel', '4710_lomboks', '1652_french dressing', '4799_djienten', '4622_aardappelen', '5341_va theelepel', '5147_sambal goreng', '6541_kidney bonen', '1652_dragonazijn', '5147_galangal', '7034_ker vel', '4773_santen', '6159_ham', '1042_vlees', '4799_koenjit', '7034_kno lookteen', '320_kalfsschenkels', '3370_54 theelepel', '2226_sjalotje', '802_pistaches', '1363_olie', '2825_spek', '2192_water', '4082_verse- of blik-vruchten', '4799_djeroek poeroet', '995_kabeljauw', '4799_citroengras', '5893_olijfolie', '6380_kippemaagjes en -levertjes', '4082_water', '995_amandelen', '2089_perzikschijfjes op sap', '5893_groene kruiden', '4391_dubbelkoolzure soda', '4602_water', '1652_\\'\"dijvie', '5259_vieux', '2675_eidooi*', '3370_ribbetjes', '4082_citroenrasp', '798_gelatineblaadjes', '4612_koteletjes', '5568_paneermeel', '1150_kabeljauwkop', '3553_tof u', '1042_lange vingers', '324_vlees', '6842_krabscharen', '2675_•riktswortel', '6159_chutney', '425_zwarte peper', '4622_olijfolie', '3678_broodkruim', '4622_ham', '7234_gerookte zalmsnippers', '3553_sojakaas', '1042_vanillesuiker', '5568_frituurvet', '3475_basilicumazijn', '3925_amandelen', '4622_spinazie a la crème', '6849_dragonazijn', '1119_kip', '1465_sulter', '1563_tarbot', '5004_maizena', '5259_vamllesuiker', '6767_gele of rode paprika', '7417_tahoe', '4467_bouillonblokje(s)', '5568_tuïnbonen', '4799_cocosmeel', '1969_\"j look', '247_filodeeg', '1127_uien', '3395_hyssop', '3475_zwarte peper', '1127_aardappelen', '1563_mosselen', '1127_winterwortel', '3840_witte vermouth', '320_droge witte wijn', '372_soepvlees', '7419_walncx', '3553_ketjap manis', '3255_zwarte peper', '3686_olie', '6401_uitjes', '3395_tomatenpuree', '1042_lever', '4997_mie', '6842_noorse garnalen', '4602_aardappelen', '5893_peterselieblad', '4411_olie', '3925_eidooier', '1716_mosselen', '247_warkaof warkha-vellen', '1934_bruine basterdsuiker', '247_farina di grano tenero', '1293_delfiatablet', '4710_kip', '6234_venkelknollen', '2780_water', '7417_sojasaus', '3255_chipolatapudding', '995_rode chilipepers', '1293_mariakaakjes', '874_sardientje', '7266_zonnebloemolie', '6767_runderbouillon', '4799_asem', '6428_pure chocolade', '6159_limoensap', '5259_congnac', '2825_water', '7419_peterse', '6234_twee kopjes', \"3370_v ' _ theel.\", '4799_koenir', '320_schenkels', '3393_basilicumazijn', '1293_braadvet', '4622_amandelschaafsel', '4799_lomboks', '1042_spek', '7034_nootmuska»', '6842_kippebouillon', '1465_kofflmar£arine', '6915_kippebouillon', '4978_witte kool', '6380_kippenekjes', '6234_rundvlees', '6056_bouillabaisse', '6234_vlees', '4978_santen', '7034_eier«', '7235_vanillesuiker', '4082_patentbloem', '4799_indische laurier', '995_soyasaus', '4773_lomboks', '2192_soja', '320_worteltjes', '425_l„°*»sappel', '1119_molsla', '1042_tartaar', '7417_japanse sojas;', '2192_ham', '3840_zuringbladeren', '6849_suir', '4773_salamblad', '3393_natuurazijn', '2192_olie', \"2063_me'\", '6767_rode chilipepers', '4612_spek', '4467_paneermeel', '6159_plantaardige olie', '5340_v_ eetlepel', '6380_peentjes', '372_rode wijs', '3823_maizena', '3686_kropsla', '3925_aardappelen', '7234_macaroni', '2089_eidooiers', '3255_venkelpoeder', '7034_knoflookteen', '3553_gemberpoeder', '3553_tempé', '6842_kipfilet', '2675_p ê > ter', '1563_water', '1150_vis', '3823_rode pepers', '7235_walnoten', '247_water', '3393_rozeblaadjes', '6056_olie', '3553_mie', '995_noten', '5568_speklappen', '4799_cocosmelk', '874_olie', '6767_gedroogde chinese paddestoelen', '320_olie', '7419_crème fraiche', '7419_chan pignons', '3395_knoflookteen', '1521_kruidnagelen', '1343_vis', '3553_droge sherry', '372_aardappelen', '3823_siam rijst', '995_lichte sojasaus', '1652_knof- vj*', '7235_noten', '5147_rode pepertjes', '4773_uien', '1521_paneermeel', '425_nootmuslij', '3686_mexicano', '6380_kippebouillon', '5147_laospoeder', '1042_stokbrood', '7419_basilicumblaadje', '4978_tamarindepasta', '5568_korabi', '6056_bokkingen', '3823_grote rauwe garnalen', '324_eierdooi- js', '5568_vleesschelp', '2951_scholletje', '7266_groene pepertjes', '4612_pijpuitjes', '3255_knolselderij', '6234_venkelknol', '7419_walnoten', '6915_pehpt', '7419_wé noten', '7419_oli| olie', '2706_beschuif.', '4622_gekookte ham', '2226_uien', '1465_aardappelen', '1389_bliktomaten', '2686_magere rundergehakt', '6056_olijfolie', '3678_balletjes', '324_kernemelk', '5340_vi theelepel', '7126_frambozen', '3840_vis', '995_zwarte peper', '1815_eidooiers', '3475_vleestomaten', '6601_aspergebouillon', '2089_groene paprl*ka', '1363_biefstuk', '3553_sojabonen', \"6159_mango's\", '4602_goudrenetten', '2686_oude kaas', '1465_alfc pje bloem\"ooreit', '5004_rawits', '3686_tartaartje', '3678_bonekruid', '4799_laos', '945_pure chocola', '4799_sambal oelek', '4997_olie', '7266_olie', '320_citroenschil', '1465_uien', '7419_water', '1815_olie', '4904_zwaardvis', '1521_groene peperkorrels', '4773_kemirienoten', '6428_kristalsuiker', '1343_oesters', '5004_eiermie', '874_pernod', '7034_crème fraiche', '874_ricard', \"802_pinda's\", '3370_jeneverbessen', '798_aardbeien', '5893_korianderblad', '995_runderbouillon', '2706_kalfiagehaoct', '5259_peren', '1042_uien', '2686_(olijf)ome', '2825_ham', '1293_biscuits', '2675_mieru** f', '1969_peper', '6767_palmsuiker', '4799_citroenschil', '4799_spaanse pepers', '995_kipfilet', '874_sardientjes', \"324_ma'en wa'noten\", '6380_blanke kip', '1716_croütons', '6694_basterdsuier', '2857_sjalotten', '2857_zuring', '1363_knoflooktenen', '3823_rijstwijn', '1815_water', '1042_aardbeien', '6401_bos uitjes', '372_worteltjes', '1563_preien', '6842_\\'toi\"flookteentje', '3925_salami', '4773_rode lomboks', '5004_bouillonblokje', '1042_diepvriesdoperwten', '4978_citroenbladeren', '945_eidooiers', '6540_sinaasapaanü', '5568_snijbonen', '3395_bonekruid', '1563_lomaten', '3553_gemberbolletjes', '372_bouillon of jus', '320_broccoli', '6234_water', '4773_asem', '5004_olie', '425_r*s. te-)boter', '4799_kemirie', '7419_olijfolie', '1969_k*', '3393_tomatenchutney', '320_geraspte citroenschil', '4622_cantal', '3823_blanke azijn', '7417_sesamzai es', '4978_kouseband', '3255_tomatenpuree', '320_schenkel', '7419_knoflookteen', '7235_non', '5341_v/i eetlepel', '995_tarbot', '6915_sjalotjes', '7034_riesling', '5147_rode pepers', '1127_garnalen', '5568_visvlees', '5893_visje', '4082_rozijnen', '7417_soja', '4997_maizena', '4799_djahé', '7266_sambal', '6380_witte peperkorrels', '4997_broccoli', '1465_hoer', '7417_shi; ke paddestoelen', '3255_2 eeti.', '2192_aardappelmeel', '1363_broccoli', \"3686_1 'a\", '7126_perziken', '6767_water', '7419_lintmarc roni;', '2063_basterdsuiker', '1363_vis', '1563_kabeljauw', '874_gruyère kaas', '1652_farnalen', '5259_kersen', '6401_boekweitgrutten', '1652_kalfsvlees', '2751_magere ham', '1343_zalm', '3686_tomatenpuree', '6234_erwtjes', '7034_sjalotjes', '1465_vis', '7266_lamslapjes', '1363_kip', '2706_kalfsgehakt', '1042_champignons', '4978_ketjap manis', '4612_sju', '995_uien', '4467_vet', '1521_gedroogde tijm', '3823_korianderblaadjes', '320_wyn', '1389_amandelen', '6694_ham', \"6401_'vomboter\", '320_olijfjolie', '3678_zuring', '6540_i0ut', '3678_worcestershiresaus', '4411_zoetzuur', '425_k hloem', '3840_knolflook', '1901_eidooiers', '995_walnoten', '1042_ken-ie', '3553_broccoli', '3370_jenever', '4622_kropsla', '6380_kippevlees', '4467_rundergehakt', '372_savooiekool', '247_vis', '1563_sla-olie', '2751_water', '3686_soja-groentenburger', '995_biefstuk', '3686_wortel', '4799_slaolie', '6540_olie', '4799_sambal', '4710_uien', '995_(sesam)olie', '3678_cottage cheese', '3686_bonenschotel', '1901_water', '5340_natuurazijn', '3395_olie', '4904_artichokken', '425_olie', '4391_kruidnagelpoeder', '1042_kerrie', '6694_har n', '4612_kapucijners', '4612_spekjes', '2675_water', '5893_rode spaanse peper', '3686_sperziebonen', '6541_(arachide)olie', '425_paneermeel', '247_zachte bloem', '4997_kippebouillon', '5568_stoofsla', '1563_tong', '5004_oestersaus', '4978_rode pepertjes', '5259_appelen', '6849_zwarte peper', '372_laurierbladen', '5568_prinsessebonen', '6234_olie', '4411_aromat', '798_gelatine', '7417_kipp balletjes', '2063_si\"3 fc sap', '4612_gans', '1042_vanillepudding', '3475_monchou', '3686_chilipoeder', '6401_ontbijtspek', '3395_hyv sop', '2089_eidooier', '1465_eidooiers', '4602_varkensfiletlapjes', '7266_groene ingemaakte pepertjes', '4799_trassi', '320_stoofvlees', '1389_geelwortel', '7126_aardbeien', '945_oploskoffie', '1521_ham', '3925_garnaal', '4612_rozijnen', '5147_kip', '7419_sjalotje', '1652_tuinkers', '3686_zwarte peper', '372_gehaktballetjes', '1716_olijfolie', \"798_kiwi's\", '4082_kristalsuiker', '2675_aardappelmeel', '3255_brussels lof', '4799_salamblaadjes', '1465_doughnuts', '7419_droge witte wijn', '3370_(zuur)kool', '3255_aardappelen', '5147_olie', '425_n°temuskaat', '3553_% cm', '1652_olijfolie', '7417_rin', '6541_ontbijtspek', '320_sukadelappen', '7126_eidooiers', '5004_blanke azijn', '5004_mie', '7419_gedroogi basilicum', '4799_citroenblad', '2675_vlees', '7126_kirsch', '3475_tomaten', '7417_mirin', '3840_aardappelen', '5568_corned beaf', '6401_champignons', '2706_paneermeel', '4997_voorjaarsuitjes', '4710_rode lomboks', '6401_spek', '4773_makreel', '4411_sperzieboontjes', \"1465_'nocrtn\", '3255_mosselen', '247_vlees', '2675_a j pelmeel', '1563_paling', '6601_witte asperges', '6159_vis', '798_kirsch', '2857_witte dovenetel', '6601_water', '1293_delfia', '7419_champignons', '802_arachide-olie', '3678_cottage', '1042_slabladeren', '7417_sinaas* pelsap', '6159_kruidnagelpoeder', '324_gemberpoeder', '995_zeevis', '3678_cheese', '6540_*ip', '6159_maïzena', '1127_bleekselderiestengels', '1176_zalm', '7419_geroosterde pijnboomp ten', '3553_cayennepeper', '4391_walnoten', '6056_aardappelen', '7034_champignons', '7417_komkom\"*', '5340_peulvruchten', '7034_noilly prat', '4773_kentjoor', '6380_water', '1042_250 graim', '5147_uien', '6842_kiiof«eentje', '7419_noten', '4978_sjalotjes', '1343_amandelen', '6401_uien', '6849_dragonblad', '995_rijstazijn', '5340_v/t eetlepel', \"3686_avocado's\", '7417_water', '5341_uien', '4391_bakkershoning', '6849_z°ut', '1150_kabeljauwkoppen', '1042_olie', '3393_sjalotjes', '1150_filet', '4622_truffel', '425_uien', '5568_abrikoos', '320_rissotto', '1465_gehaktbal', '798_water', '7126_witte basterdsuiker', '3393_pimpernel', '425_petersefc r', '5568_abrikozen', '4978_water', '3686_olijfolie', '247_farina di grano duro', '6380_rijstebloem', '4622_feuilleté-deeg', '5568_hangop', '1652_ci- vn,sap', '1042_pakrje', '247_harde bloem', '3395_zonnebloemolie', '1293_slaolie', '4997_rode pepers', '2857_paling', '3686_granen-burger', '1563_uien', '4622_spek', '247_loempiavellen', '7266_lamsvlees', '7419_sjalot', '2192_champignons', '1815_hete soep', '3370_rozemarijnnaaldjes', '5568_aardbeien', '4997_tai ming mie', '6234_zwarte peper', '1652_cheddar kaas', '3686_zwarte olijf', '7417_zilvervlies', '7034_no prat', '6159_niunt', '2089_ge-*-*. kookt kippevlees', '3475_olijfolie', '3393_bonekruid', '5893_rode peper', '7235_water', '5004_broccoli', '372_stukjevlees', '324_speculaaskruiden', '4612_sinaasappels', '2675_eidooiers', '1652_molsla', '4622_abrikoos', '4612_worst', '4278_kastanjepuree', '6380_kipkarkassen', '7034_champi? nons', '945_sinaasappelschil', '6694_mosterdpoeder', '6540_kip', '874_olijfolie', '247_warka-vellen', '7419_pa mezaanse kaas', '1176_makreel', '324_reuzel', '3393_vlierbloesem', '5341_vi theelepel', '3553_olie', '6159_basterdsuiker', '5147_tamarindepasta', '5004_water', '6541_lente-uitjes', '4978_taugé', '7419_wa noten', '5340_v/2 deel', '1042_paneermeel', '3678_totjap', '874_sardientjes in olie', '3553_tahoe', '4799_uien', '995_lente-uitjes', '995_lever', '3925_rookworst', '5568_ansjovis filets', '4278_babykalkoen', '4612_zwarte peper', '2751_frituurvet', '1042_saliebladeren', '3553_54 eetlepel', '1042_eidooiers', '4622_jonge hollandse kaas', '5259_armagnac', '4278_gerookt spek', '5259_eidooiers', '6401_water', '5147_koenjit', '4799_kroepoek', '3553_tahoeblokjes', '1150_uien', '6380_kipfilet', '1293_delfrite', '6401_eitjes', '5568_kantarellen', '5004_sambal', '4612_blinde vinken', '3840_olijfolie', '4978_djeroek poeroet', '1652_spek', '1815_uien', '247_pasta', '1521_madeira', '5341_vz', '6915_z °ut', '3686_burger', '4622_vanillevla', '6601_groene asperges', '320_kalfsknoken', '798_ananas', '3678_fines herbes', '1934_bakpoeder', '3393_uitjes', '7417_groene kool', '3475_salami', '247_tarwegries', '5004_runderbouillonblokje', '5568_aardappelen', '5340_(zonnebloem)olie', '4710_witte rijst', \"7417_olijfoi'\", '5340_v» eetlepel', '7417_ve-tsin', '802_koffiebonen', '3925_frituurvet of -olie', '995_kalfslever', '5004_rundergehakt', '995_chilipepertjes', '1150_kabeljauwwangetjes', '4391_amandelen', '2089_kippevlees', '324_witte boter. a\">men', '372_water', '6849_kropsla', '7419_tagliatelle', '4278_water', '4710_trassi', '5893_zeezout', '7419_pijnboompitten', '3553_maizena', \"7417_pad' stoel\", '4997_oestersaus', '4612_jonge kaas', '1042_nier', '3553_zonnebloemolie', '5147_verse laoswortel', '4612_bonekruid', '6056_uien', '324_foe°e', '4773_trassi', \"5893_pandora's\", '1389_appelen', '7419_p per', '1127_olie', '425_°ar,anen', '995_kogelbiefstuk', '7417_olie', '4773_gerookte of gestoomde makreel', '5341_boontjes', '1901_witte basterdsuiker', '874_spaghetti', '1389_olie', '995_sesamolie', '6540_j\">otmuskaat', '6601_l °ut', '320_laurierblaadje', '6540_uien', '1042_koffie', '3553_gembersiroop', '6541_boterbonen', '425_bietjes', '3553_sojaboon', '6849_oostindische kers', '1465_bo*', '2686_droge rode wijn', '3393_citroentijm', '6540_kippebouillon', '3668_sesamolie', '5568_kalfsborst', '1521_varkensvlees', '7417_hoe', '324_suier', '6541_zwarte peper', '5340_olie', '7034_eidooier', '6767_maizena', '372_dorperwt.jes', '3395_linzen', '372_boter of vet van jus', '4622_spekblokjes', '874_spaghettini', '3840_brandnetelscheuten', '7034_cri me fraiche', '320_kippebouillon van een tablet'}\n"
     ]
    }
   ],
   "source": [
    "#gs_agg_ingr = aggframe_reset.loc[(aggframe_reset['category'] == 'INGREDIENTS') ]['values'].tolist()\n",
    "#agg_list_ingr = set(gs_agg_ingr[0])\n",
    "#prf_agg_ingr = prec_r_f(agg_list_ingr,sysout_agg)\n",
    "#print(prf_agg_ingr)\n",
    "\n",
    "gs_agg_ingr = aggframe_reset.loc[(aggframe_reset['category'] == 'INGREDIENTS')  ]['values'].tolist()\n",
    "gs_agg_ocr = aggframe_reset.loc[(aggframe_reset['category'] == 'OCR')  ]['values'].tolist()\n",
    "gs_agg_ocr_ing = (gs_agg_ocr[0] | gs_agg_ingr[0])\n",
    "#agg_list_ingr = set(gs_agg_ingr[0])\n",
    "prf_agg_ingr = prec_r_f(gs_agg_ocr_ing,sysout_agg)\n",
    "print(prf_agg_ingr)"
   ]
  },
  {
   "cell_type": "code",
   "execution_count": 12,
   "metadata": {},
   "outputs": [
    {
     "name": "stdout",
     "output_type": "stream",
     "text": [
      "3204\n"
     ]
    }
   ],
   "source": [
    "print(len(wnlist))"
   ]
  },
  {
   "cell_type": "code",
   "execution_count": 10,
   "metadata": {},
   "outputs": [],
   "source": [
    "def import_list():\n",
    "## IMPORT NEW LIST\n",
    "# import the list of ingredients\n",
    "# Complete list seems to result in a slightly higher recall\n",
    "    list_ = []\n",
    "    #with open(\"ingredient_list.csv\", 'r') as x: # yes it's hard coded, not so neat\n",
    "    with open(\"/data/IngredientQuantitiesUnits_Annotations/ingredients_lists/combined_AH_dbp_WN_list.txt\", 'r') as x: # yes it's hard coded, not so neat\n",
    "        for line in x:\n",
    "            line = line.rstrip()\n",
    "            list_.append(line)\n",
    "#\tprint(list_)\n",
    "    return(list_)\n",
    "\n",
    "combined_list = import_list()"
   ]
  },
  {
   "cell_type": "code",
   "execution_count": 11,
   "metadata": {},
   "outputs": [],
   "source": [
    "def preprocess_text(t):\n",
    "    tagged_list_ = []\n",
    "    tokenizer = RegexpTokenizer(r'\\w+')\n",
    "    words = tokenizer.tokenize(t)\n",
    "    words = \" \".join(words)\n",
    "    return(words)\n",
    "\n",
    "def detect_ingredients(text,lijst):\n",
    "    ingredients = []\n",
    "    for x in lijst:\n",
    "        x = \" \" + x +\" \"\n",
    "        ingredient = re.search(x, text)\n",
    "        if ingredient:\n",
    "            cleanright = ingredient.group().rstrip()\n",
    "            cleanleft = cleanright.lstrip()\n",
    "            lowercase = cleanleft.lower()            \n",
    "            ingredients.append(lowercase)\n",
    "        unique_ingredients = set(ingredients)\n",
    "#\tprint(\"bla\", unique_ingredients)\n",
    "    return(unique_ingredients)"
   ]
  },
  {
   "cell_type": "code",
   "execution_count": 12,
   "metadata": {},
   "outputs": [],
   "source": [
    "import re\n",
    "from nltk.tokenize import sent_tokenize, RegexpTokenizer\n",
    "from glob import glob\n",
    "\n",
    "system_output = {} \n",
    "for filename in glob('/data/IngredientQuantitiesUnits_Annotations/EvaluationSet/ba*/*txt'):\n",
    "    file = open(filename, \"r\") \n",
    "    name_elems = filename.split(\"/\")\n",
    "    artikel = file.read()\n",
    "\n",
    "    ing = preprocess_text(artikel)\n",
    "    #print(ing)\n",
    "    found = detect_ingredients(ing, combined_list)\n",
    "#\tqua = detect_quantities(ing, found)\n",
    "    found_list = list(found)\n",
    "    inbetween = []\n",
    "    for x in found_list:\n",
    "        inbetween.append(name_elems[9][:-4] + \"_\" + x)\n",
    "    found = set(inbetween)\n",
    "    inbetween = []\n",
    "    system_output[name_elems[9][:-4]] = found\n",
    "    found = {}"
   ]
  },
  {
   "cell_type": "code",
   "execution_count": 13,
   "metadata": {},
   "outputs": [],
   "source": [
    "aggregated = pd.DataFrame(columns=['category', 'ingr_set'])\n",
    "aggregated = df.groupby(['category'])['values'].apply(set)\n",
    "aggframe = aggregated.to_frame()\n",
    "aggframe_reset = aggframe.reset_index(level='category')"
   ]
  },
  {
   "cell_type": "code",
   "execution_count": 14,
   "metadata": {},
   "outputs": [],
   "source": [
    "sysout_aggregated = []\n",
    "for x in system_output:\n",
    "    for y in system_output[x]:\n",
    "        sysout_aggregated.append(y)\n",
    "        \n",
    "sysout_agg = set(sysout_aggregated)"
   ]
  },
  {
   "cell_type": "code",
   "execution_count": 15,
   "metadata": {},
   "outputs": [],
   "source": [
    "def prec_r_f(a1,a2):\n",
    "    tp = a1.intersection(a2)\n",
    "    fp = a2.difference(a1)\n",
    "    fn = a1.difference(a2)\n",
    "    precision = len(tp) / (len(tp) + len(fp))\n",
    "    recall = len(tp) / (len(tp) + len(fn)) \n",
    "    f = (precision + recall) / 2 \n",
    "    answer = \"\\tItemsGS:\\t\" + str(len(a1)) + \"\\tItemsSystem:\\t\" + str(len(a2)) + \"\\tcorrect:\\t\" + str(len(tp))+ \"\\tp:\\t\" + str(precision) + \"\\tr:\\t\" + str(recall) + \"\\tf1:\\t\" + str(f) + \"\\nin SystemOutput not in GS\" + str(fp) + \"\\nin GS not in SystemOutput\" + str(fn) \n",
    "    return(answer)"
   ]
  },
  {
   "cell_type": "code",
   "execution_count": 16,
   "metadata": {},
   "outputs": [
    {
     "name": "stdout",
     "output_type": "stream",
     "text": [
      "\tItemsGS:\t1686\tItemsSystem:\t2050\tcorrect:\t1154\tp:\t0.5629268292682926\tr:\t0.6844602609727165\tf1:\t0.6236935451205046\n",
      "in SystemOutput not in GS{'3395_zout en peper', '1815_uiensoep', '5366_gerecht', '4411_citroensap', '3840_soep', '3668_wit', '4710_oliebollen', '1815_wijn', '3553_groenten', '6767_thaise vissaus', '2063_sap', '1343_levensmiddelen', '1911_smaak', '3395_koekjes', '324_glazuur', '3678_chinese bieslook', '4612_water', '995_peper', '6842_groenten', '5341_bonensoep', '4904_kruiden', '1389_soep', '7417_rijstwijn', '3370_alcohol', '1901_kokend water', '5366_mede', '6056_zout en peper', '6842_bouillon', '4997_marinade', '7266_water', '1716_witte', '874_saus', '5147_gemalen kurkuma', '2226_wijn', '3840_zout en peper', '372_vet', '798_zon', '3475_zon', '2706_schotel', '7034_kloppen', '2825_franse', '7126_taart', '6541_witte bonen', '6428_koffie', '945_zoet', '3393_kruidenazijn', '1563_hollandse', '6401_zwarte peper', '1150_kabeljauw', '3393_gelei', '3370_water', '2825_wijn', '5259_beslag', '3393_vlees', '1934_deeg', '6601_rassen', '6694_den', '5568_pit', '995_olie', '6694_glazuur', '1934_koekje', '4602_puree', '4978_gerecht', '7419_wijn', '1363_smaakmaker', '2226_vis', '1389_pap', '5147_laos', '6401_graansoort', '5004_azijn', '7034_crème', '4622_perzik', '7126_saus', '6767_gehakt', '372_saus', '2857_witte', '2686_biefstuk', '1389_salade', '6601_zout en peper', '3553_omdraaien', '4082_taart', '4391_geraspte citroenschil', '2686_kaas', '3678_vegetarische', '6056_wit', '7234_smaak', '4391_kruidnagel', '7419_geraspte', '5340_fris', '4278_vet', '6401_wit', '6842_zout en peper', '1389_water', '4278_peper en zout', '3686_salade', '4082_bloem', '3840_veldzuring', '6056_vissoep', '6401_zout en versgemalen zwarte peper', '6401_rijst', '7419_saus', '3393_dressing', '5147_kruiden', '1389_zon', '320_citroen', '3395_pit', '1716_brood', '5366_zon', '1293_koffie', '1127_zak', '5568_schotel', '6541_wijnazijn', '2226_witte', '6234_zout en peper', '7266_hollands', '7034_water', '4278_paneermeel', '6428_nagerecht', '5673_spek', '5004_pepers', '802_struik', '802_beslag', '3370_hollandse', '6601_soep', '320_groenten', '5147_pepers', '1293_vet', '7126_geslagen room', '4997_vlees', '7126_deeg', '4391_deeg', '2951_flauwekul', '2857_lager', '6056_teen', '2089_smaak', '2780_witte', '1911_banaan', '874_blikjes', '320_gerecht', '1293_stollen', '3686_linzen', '4411_zout en peper', '2857_water', '5147_heet water', '2192_kokend water', '7235_compote', '798_zuivel', '7234_water', '2751_ham', '6839_vlees', '1934_ingrediënten', '3823_saus', '1652_geraspte', '3823_tomaat', '247_dooier', '3823_smaak', '5549_zon', '2226_kookvocht', '995_eten', '6056_witte', '425_water', '6541_den', '874_peper en zout', '2825_gouden', '4622_spinazie', '4773_rijst', '3823_rijst', '3840_room', '2089_blikje', '4799_gerecht', '4773_kruiden', '5568_water', '995_sojasaus', '798_enzym', '3393_witte', '6849_dressing', '3686_seitan', '4799_fruiten', '7235_smaak', '4799_vis', '6541_salade', '1911_vlees', '945_dessert', '6428_gehakt', '1911_ingrediënten', '995_komkommersalade', '2857_ingrediënten', '4622_hapje', '7126_perzik', '4467_water', '6541_vloeibare honing', '3686_granen', '3686_kaas', '324_gordijn', '2686_grill', '6401_koren', '4467_vlees', '3393_kruid', '2089_saus', '2686_geraspte oude kaas', '4278_wijn', '4710_rijst', '1363_tomaten', '1042_blikje', '1815_kaas', '5341_zoete', '320_fijngehakte peterselie', '1363_lever', '3925_frituurvet', '6234_koud water', '247_zachte', '3553_sherry', '3553_groene kruiden', '4799_uitpersen', '7234_crème', '4602_spek', '6234_smaak', '6915_smaak', '2780_kokend water', '3925_waterkers', '2192_chinese', '995_vis', '7419_peper en zout', '6767_chilipeper', '1389_fruiten', '1042_saus', '1652_vet', '4978_witte', '6401_vlees', '874_geraspte', '4278_omdraaien', '4602_aardappels', '3686_ananas', '6541_bonen', '4278_room', '2706_gehaktballetjes', '5259_gerecht', '1127_wijn', '1563_franse', '2825_mede', '4278_kalkoen', '5568_zout en peper', '1716_ingrediënten', '4978_kokend water', '6056_gerecht', '3393_vis', '320_gepelde tomaten', '5893_huid', '6767_rijst', '320_ingrediënten', '324_zilver', '1652_kaas', '5340_peper en zout', '874_ovenschotel', '5341_bruine bonen', '5341_soep', '1119_groente', '4467_bouillonblokje', '6541_olie', '1716_zout en peper', '3393_gehakt', '1119_drinken', '1716_els', '995_dipsaus', '6849_versgemalen zwarte peper', '7419_beslag', '4799_kruiden', '6601_hollandse', '3823_azijn', '3668_zon', '4612_amsterdamse', '4278_maanzaad', '3255_groente', '324_drank', '5673_ingrediënten', '7417_zon', '324_mede', '3823_pepers', '6767_chinese', '1042_ingrediënten', '1716_mayonaise', '3686_kroket', '5147_gerecht', '324_bier', '3475_kaas', '247_italiaanse', '6849_water', '6380_roux', '2686_wijn', '320_witte wijn', '247_stollen', '1901_kruiden', '1901_kandeel', '3475_peper en zout', '5147_gemalen kurkuma koenjit', '4622_peper en zout', '6380_smaak', '3553_smaak', '4622_crème', '5259_boter om in te vetten', '945_zuivelfabriek', '2857_versgemalen peper', '6839_saus', '6401_vet', '4391_geraspte', '1901_wijn', '1119_zak', '3686_vegetarische', '4467_soep', '6601_asperges', '802_lekkernij', '1127_sap', '1150_water', '1716_eieren', '6540_geraspte', '6056_ovenschotel', '6849_zout en versgemalen zwarte peper', '5366_boon', '1363_witte', '4612_smaak', '3678_koekjes', '1363_zon', '4467_brood', '4411_aardappelsalade', '4391_citroenschil', '2751_frites', '2706_zout en peper', '6767_chilipepers', '2192_koud water', '6541_ui', '3823_garnalen', '7417_gerecht', '4411_smaak', '1934_koekjes', '5340_vinaigrette', '5673_franse', '2825_taart', '1563_brood', '3553_zout en peper', '1389_koud water', '1716_aardbeien', '1901_dier', '3686_bonen', '5893_mens', '2751_zout en peper', '7419_geraspte parmezaanse kaas', '995_fondue', '4799_indonesische', '7235_zoete', '4602_vet', '5673_eten', '3395_vleesvervanger', '324_tinnen', '425_wijn', '1716_voedsel', '3395_fruiten', '4278_gehakt', '4391_eidooiers', '5341_witte', '2751_patates frites', '7278_schoten', '7419_witte wijn', '5340_smaak', '6694_pasta', '1901_basterdsuiker', '6915_versgemalen peper', '4612_biertje', '1465_eten', '2192_indonesische', '3475_italiaanse', '4997_koud water', '7419_crème', '6056_winde', '6849_kers', '1521_peper', '5568_kokend water', '5893_peper', '6401_gesneden champignons', '6842_krab', '1652_azijn', '6541_smaak', '3678_geraspte', '4082_cognac', '4799_laurier', '7266_smaak', '3925_vet', '2751_smaak', '2686_zout en peper', '1716_gekookte mosselen', '5673_knoflook', '5366_krenten', '6159_chilipepers', '1815_puree', '3553_marinade', '1293_taart', '3925_kaas', '3395_brood', '3370_gerecht', '3393_franse', '5259_crème', '1521_groene peper', '5259_vetten', '1042_rode paprika', '320_witte', '3925_frituurolie', '7266_mei', '2226_schotel', '2192_saus', '2857_ingrediënt', '320_saus', '6541_groenten', '4612_kapucijner', '4978_pindasaus', '6380_peperkorrels', '5673_paprika', '945_smaak', '372_smaak', '5568_nagerechten', '7417_e', '6234_omdraaien', '3553_tomaten', '372_fijngehakte peterselie', '4799_noot', '1389_okra', '1119_eten', '1363_fruit', '4997_kokend water', '3553_ingrediënten', '2825_ei', '6401_mens', '6915_soep', '1150_zon', '5340_saus', '945_drab', '1465_deeg', '4612_feestmaal', '3370_olie', '1293_1918', '6056_hollandse', '2686_geraspte', '1652_eten', '7419_smaak', '4710_gerecht', '4411_water', '2825_ingrediënten', '1716_chinese', '6234_groente', '4278_vlees', '1652_hapje', '802_boom', '1716_eten', '5366_brood', '1969_smaak', '4978_kool', '1176_ingrediënten', '6694_vet', '1042_geraspte', '324_e', '6234_gerecht', '3255_room', '1716_vis', '802_pinda', '2951_vis', '6767_thaise', '802_rassen', '6694_vlees', '5568_nagerecht', '4278_citroensap', '4411_eiwit', '7419_basilicum', '874_boter of margarine', '7266_barbecue', '324_smaak', '1563_olie', '6401_peper', '5147_water', '1716_kookvocht', '3686_gemalen komijn', '2226_zout en peper', '6540_bouillon', '324_eten', '2857_kruid', '1343_ingrediënten', '320_gezeefde tomaten', '7419_kaas', '1716_uien', '7234_gesneden prei', '2706_smaak', '1042_witte', '1716_kabeljauw', '995_gemalen gember', '3475_vinaigrette', '2857_dovenetel', '6601_witte', '1716_drank', '1716_meel', '2825_geraspte', '6601_kokend water', '2192_salade', '7419_witte', '425_witte', '320_geraspte', '5568_rijstebrij', '372_boter of margarine', '4411_geraspte', '874_geraspte gruyère', '1716_mossel', '5147_sambal', '6541_witte', '4082_kloppen', '5341_water', '4391_honing', '3255_water', '4622_hollandse', '2089_geroosterd brood', '6056_fruiten', '2825_geraspte kaas', '4467_soepen', '6428_geraspte', '2192_gerecht', '7417_koud water', '6056_eten', '1652_cheddar', '1563_soep', '1293_smaak', '3840_zout', '1119_leeftocht', '6839_hapje', '4278_koud water', '6839_raita', '7417_salade', '945_geraspte', '4278_kokend water', '320_hapje', '7126_witte', '3925_kruiden', '6767_pepers', '2857_zout en peper', '1119_water', '1934_basterdsuiker', '2226_saus', '7417_es', '1176_zoete', '4278_brood', '798_crème', '1901_e', '2825_witte', '3553_ketjap', '1716_oesters', '7266_vlees', '2686_rode wijn', '6234_saus', '945_stollen', '6540_saus', '7266_schapen', '4278_geraspte', '2675_geraspte', '7419_fijngehakte peterselie', '320_takje tijm', '5568_mei', '802_noot', '3823_water', '3370_kool', '1901_margriet', '1716_bier', '4622_deeg', '6601_versgemalen peper', '6428_italiaanse', '4602_vlees', '4602_appels', '4997_pepers', '3678_smaak', '3553_witte', '2780_margarine', '1901_witte', '798_koud water', '2857_smaak', '5147_kool', '1127_smaak', '3393_marinade', '6401_omelet', '6541_voorgerecht', '6849_olijfolie extra vierge', '7235_es', '1119_olie', '802_procent', '1911_kerrie', '1652_vlees', '6839_hollandse', '4773_teen', '874_italiaanse', '6056_wingerd', '6401_smaak', '3395_toastjes', '5366_rozijnen', '324_water', '6767_paprika', '2226_smaak', '1389_fruitsalade', '3686_vleesvervangers', '1652_salade', '5340_slasaus', '5568_es', '1563_kruiden', '995_chinese', '1563_sla', '4997_heet water', '3678_zout en peper', '425_room', '7417_peper en zout', '4278_bouillon', '324_drinken', '5340_ingrediënten', '3553_kruiden', '2825_deeg', '2751_fijngehakte peterselie', '6234_groenten', '5568_geraspte', '4710_smaak', '5341_gesneden uien', '6428_chocoladecake', '4467_wit', '1042_brood', '3395_soep', '320_vis', '1343_hollandaisesaus', '1042_zout en peper', '6380_witte', '3686_sap', '6915_es', '1652_veldsla', '2675_saus', '3840_smaak', '874_kokend water', '2686_barbecue', '6915_groenten', '6428_chocolade', '1521_tijm', '1521_grill', '2063_ingrediënten', '1716_puree', '1716_schotel', '6767_vissaus', '3686_groente', '2192_sap', '4467_vermicelli', '6540_smaak', '3840_witte', '1389_olie of boter', '995_omelet', '5893_spaanse peper', '1901_suiker', '6428_vetten', '2686_olijf', '1389_flap', '4602_appel', '3370_zout en peper', '1042_schotel', '7417_fris', '6380_kip', '4997_geraspte', '4602_gemalen nootmuskaat', '3370_vlees', '1042_taart', '1563_vissoep', '7419_pasta', '3925_eierdooier', '995_vlees', '945_chocolademousse', '6056_ijs', '4710_salade', '6842_garnalen', '4622_kippesoep', '6159_lichtbruine basterdsuiker', '3840_brandnetels', '2226_kabeljauw', '2686_smaak', '3823_koud water', '6380_soep', '320_smaak', '3395_kruiden', '2825_zon', '6540_gerecht', '1389_room', '5568_geraspte kaas', '1127_witte', '1363_groente', '6839_rijst', '4799_pepers', '995_feestmaal', '3823_gerecht', '3840_peper', '372_eten', '3840_eten', '3925_aardappelkroketjes', '6056_wijn', '1389_ingrediënten', '4710_zoet', '6601_zout', '3686_olie of boter', '3393_appel', '6159_water', '2780_smaak', '4612_kaas', '7034_champignon', '3475_voorgerecht', '798_soufflé', '3393_witte wijnazijn', '247_ingrediënt', '7278_bloed', '1815_witte', '247_deeg', '1716_italiaanse', '874_roomsaus', '4467_paprikapoeder', '2192_schotel', '6839_indiase', '1652_smaak', '7034_den', '995_gemalen kaneel', '6842_zout', '4278_ijs', '2857_zout en versgemalen peper', '5568_mosterdsaus', '7126_basterdsuiker', '1127_water', '2686_rundergehakt', '6401_hapje', '1716_es', '5340_salade', '5004_koud water', '6056_water', '2780_rum', '4612_hollandse', '874_kaas', '5259_drank', '2751_deeg', '3475_water', '3686_bijgerecht', '6694_roken', '324_soep', '6234_knol', '1363_uien', '4467_groente', '1042_grill', '6056_bladerdeeg', '945_eigeel', '1652_nier', '372_kruiden', '5893_kruiden', '2825_vet', '3678_zachte', '5673_olijven', '4602_bloedworst', '1563_vis', '2780_heet water', '5568_kaassaus', '3840_geraspte', '6380_kippesoep', '1815_brood', '5340_zonnebloem', '1465_es', '945_smaakmaker', '324_gang', '3925_frituurvet of olie', '6401_versgemalen zwarte peper', '5568_eiwit', '5341_smaak', '4612_eten', '320_italiaanse', '874_water', '945_water', '1042_smaak', '3686_peper', '6601_bouillon', '320_zout en peper', '1716_wijn', '6056_interieur', '3840_kaas', '4278_walnoten', '7278_geel', '4997_lager', '4411_koud water', '1119_soep', '1465_ingrediënten', '5673_thee', '1652_dressing', '3686_smaak', '7234_gerecht', '4411_eigeel', '6401_roomboter', '7266_zout en peper', '6428_cake', '2192_fruit', '2857_onkruid', '2089_salade', '3255_schotel', '4278_wijnsaus', '372_bouillon', '4082_suiker', '5893_water', '5147_vlees', '874_schotel', '324_witte', '6540_versgemalen peper', '1716_stokbrood', '3393_olie', '6428_bonbon', '247_snack', '1652_e', '425_kokend water', '7417_smaak', '6842_soep', '7419_olie', '802_olie', '3840_saus', '4612_peper', '5673_zalm', '3475_witte', '1389_zout en peper', '1815_soep', '3475_kruid', '3668_groente', '1293_cake', '2857_gerecht', '3925_deeg', '2857_kruiden', '1969_boter of margarine', '6849_eten', '798_smaak', '4411_eidooiers', '4978_saus', '3255_gekookt ei', '1969_brood', '6401_room', '4904_vissoep', '2063_cocktail', '4773_smaak', '995_gerecht', '1119_boom', '5259_dessert', '3553_water', '324_tin', '1343_groenten', '6056_groente', '945_kokend water', '798_vlees', '320_wijn', '7234_zalmsnippers', '5673_kopje thee', '3925_smaak', '4978_schotel', '6767_rode paprika', '4411_room', '3686_ingrediënten', '6056_schotel', '1901_drank', '995_pittige mosterd', '425_appel', '995_ingrediënten', '4278_spek', '945_vet', '324_riet', '945_vla', '2089_sap', '4278_zout en peper', '4773_witte', '3686_pit', '4082_boter', '6159_ingrediënten', '1815_fruit', '6839_eten', '7266_teen', '3395_kookvocht', '425_versgemalen peper', '995_sesam', '3925_olie', '6380_selderij', '995_chilipepers', '1127_puree', '6541_peper', '5147_saus', '1127_soep', '6767_olie', '4612_grill', '6842_ui', '4978_groenten', '6159_olie', '1716_saus', '4391_bakpoeder', '3686_olijf', '7126_soufflé', '5673_chinese', '324_boter', '3475_smaak', '4710_witte'}\n",
      "in GS not in SystemOutput{'7417_sperciebonen', '4612_zwezerik', '425_oude botert&l', '2857_eierdooiers', '2226_kabeljauw- of schelvisfilets', '4799_santen', '7419_basi cum', '874_koffïeroom', \"6767_knof'°ok\", '4978_witte koolbladeren', \"1465_ker \\\\'\", '7419_pijnboomp ten', '6380_preitjes', '1652_varkensfri-o*öten', '3686_vegetarische kroket', '1716_kabeljauwmoten of staartstukken', '6234_tajine', '6401_lioekweit', '1389_sinaasappelen', '6428_biscuitjes', '7417_kwarteleitjes', '1293_koffie-extract', '3686_kidney-bonen', '2686_biefstuk tartaar', '5893_visjes', '7234_macar °ni', '6234_1 kg', '320_kalfsbouillon', '1042_gebaktbrood', '372_lamsvlees', '425_(plante-)boter', \"1652_pr'ka\", '2192_droge korrelrijst', '7234_crème fraiche', '2192_bamboespruiten', '4799_sereh', '6380_selderij- of peterselie-stengels', '1119_brandneteltopjes', '7417_kwartel jes', '4710_santen', '2686_banbeeuesaus', '4799_djeroek poeroetblaadjes', '1563_tomatenpurée', '7417_sinaas» pelsap', '7417_aj', '3553_tomaten-gembersaus', '7234_msn ippers', '5147_sambal ajam', '425_klapstuk', '320_kalfsschenkel', '1363_ei', '6767_nam pla', '6767_mtaardige olie', '3668_zeekooi', '4622_perzik uit blik', '6915_t watjes', '425_j\"s of bouillon (tablet)', '6767_sjalotjes', '3686_nasicarré', '6915_kipwuillon', '1127_selderiestengels', '1465_andijvie', '4799_salam', '372_bouillon of magere jus', '1150_kalislapje', '6767_runderlapjes', '1652_shrimps', '1969_p^« selie', '1465_4 dozun', '995_piten', '3925_leidsekaas', '1465_aardbeien', '5147_verse laos', '4278_varkensvlees', '1176_peptr', \"1389_okra's\", '3678_bouquet garni', '1293_plantenmargarine', '7417_japanse rijstwijn', '7419_b ter', '324_galan- sa>', '1042_tuinkruiden', '1042_aardbeienoharlotte', '425_ll* cc', '4978_koolbladeren', '1563_snoekbaars', \"1465_f ,epels b'st' % koffielepel w„us,kaat.\", '3370_varkensribbetjes', '5259_crème fraiche', '3678_brood', '1293_kaakjes', '802_pistachenootjes', '425_fri- honing', '2192_eend', '2675_mierikswortels^] holl|', '2675_j ipiel iveree', '4612_koek', '2089_perzikschijfjes', '7419_champignd', '6694_droog broodkruim', '7419_cr me fraiche', '247_warka-vel', '4710_lomboks', '1652_french dressing', '4799_djienten', '5341_va theelepel', '5147_sambal goreng', '6541_kidney bonen', '1652_dragonazijn', '5147_galangal', '7034_ker vel', '4773_santen', '7034_kno lookteen', '320_kalfsschenkels', '3370_54 theelepel', '802_pistaches', '4467_paprikapoeders', '4082_verse- of blik-vruchten', '6380_kippemaagjes en -levertjes', '2089_perzikschijfjes op sap', '4391_dubbelkoolzure soda', '1652_\\'\"dijvie', '2675_eidooi*', '3370_ribbetjes', '798_gelatineblaadjes', '4612_koteletjes', '1150_kabeljauwkop', '3553_tof u', '6842_krabscharen', '2675_•riktswortel', '3678_broodkruim', '3553_sojakaas', '3475_basilicumazijn', '4622_spinazie a la crème', '6849_dragonazijn', '1465_sulter', '1563_tarbot', '5259_vamllesuiker', '6767_gele of rode paprika', '7417_tahoe', '4467_bouillonblokje(s)', '5568_tuïnbonen', '4799_cocosmeel', '1969_\"j look', '3395_hyssop', '1127_winterwortel', '3840_witte vermouth', '372_soepvlees', '7419_walncx', '6401_uitjes', '4997_mie', '6842_noorse garnalen', '5893_peterselieblad', '247_warkaof warkha-vellen', '247_farina di grano tenero', '1293_delfiatablet', '6234_venkelknollen', '7417_sojasaus', '3255_chipolatapudding', '995_rode chilipepers', '1293_mariakaakjes', '874_sardientje', '4799_asem', '5259_congnac', '7419_peterse', '6234_twee kopjes', \"3370_v ' _ theel.\", '4799_koenir', '320_schenkels', '3393_basilicumazijn', '1293_braadvet', '4799_lomboks', '7034_nootmuska»', '6842_kippebouillon', '1465_kofflmar£arine', '6915_kippebouillon', '6380_kippenekjes', '6234_rundvlees', '6056_bouillabaisse', '4978_santen', '7034_eier«', '4082_patentbloem', '4799_indische laurier', '995_soyasaus', '4773_lomboks', '2192_soja', '425_l„°*»sappel', '1119_molsla', '1042_tartaar', '7417_japanse sojas;', '3840_zuringbladeren', '6849_suir', '4773_salamblad', '3393_natuurazijn', \"2063_me'\", '6767_rode chilipepers', '6380_peentjes', '5340_v_ eetlepel', '372_rode wijs', '3255_venkelpoeder', '7034_knoflookteen', '2675_p ê > ter', '3823_rode pepers', '3393_rozeblaadjes', '3553_mie', '4799_cocosmelk', '995_noten', '5568_speklappen', '6767_gedroogde chinese paddestoelen', '7419_crème fraiche', '7419_chan pignons', '3395_knoflookteen', '6159_kerrieschotels', '1521_kruidnagelen', '3823_siam rijst', '1652_knof- vj*', '5147_rode pepertjes', '7235_noten', '425_nootmuslij', '3686_mexicano', '6380_kippebouillon', '5147_laospoeder', '1042_stokbrood', '7419_basilicumblaadje', '4978_tamarindepasta', '5568_korabi', '6056_bokkingen', '3823_grote rauwe garnalen', '324_eierdooi- js', '5568_vleesschelp', '2951_scholletje', '7266_groene pepertjes', '4612_pijpuitjes', '6915_pehpt', '7419_wé noten', '7419_oli| olie', '2706_beschuif.', '4622_gekookte ham', '1465_aardappelen', '1389_bliktomaten', '2686_magere rundergehakt', '3678_balletjes', '324_kernemelk', '5340_vi theelepel', '6601_aspergebouillon', '2089_groene paprl*ka', \"6159_mango's\", '4602_goudrenetten', '1465_alfc pje bloem\"ooreit', '5004_rawits', '3678_bonekruid', '945_pure chocola', '4904_zwaardvis', '4773_kemirienoten', '5004_eiermie', '2706_kastanjes', '874_pernod', '7034_crème fraiche', '874_ricard', '6915_eierdooiers', \"802_pinda's\", '5893_korianderblad', '2706_kalfiagehaoct', '2686_(olijf)ome', '798_dooiers', '1293_biscuits', '2675_mieru** f', '1969_peper', '6767_palmsuiker', '4799_spaanse pepers', '874_sardientjes', \"324_ma'en wa'noten\", '6380_blanke kip', '1716_croütons', '6694_basterdsuier', '1363_knoflooktenen', '6401_bos uitjes', '6842_\\'toi\"flookteentje', '4773_rode lomboks', '1042_diepvriesdoperwten', '4978_citroenbladeren', '6540_sinaasapaanü', '6380_eierdooiers', '3395_bonekruid', '1563_lomaten', '3553_gemberbolletjes', '372_bouillon of jus', '3393_vlierbessen', '4773_asem', '425_r*s. te-)boter', '4799_kemirie', '1969_k*', '3393_tomatenchutney', '4622_cantal', '3823_blanke azijn', '7417_sesamzai es', '4978_kouseband', '320_schenkel', '7419_knoflookteen', '7235_non', '5341_v/i eetlepel', '995_tarbot', '6915_sjalotjes', '7034_riesling', '5147_rode pepers', '5568_visvlees', '5893_visje', '7417_soja', '4799_djahé', '6380_witte peperkorrels', '1465_hoer', '7417_shi; ke paddestoelen', '3255_2 eeti.', \"3686_1 'a\", '7419_lintmarc roni;', '1652_farnalen', '6401_boekweitgrutten', '1652_kalfsvlees', '2751_magere ham', '6234_erwtjes', '7034_sjalotjes', '2706_kalfsgehakt', '4612_sju', '320_wyn', \"6401_'vomboter\", '320_olijfjolie', '6540_i0ut', '3678_worcestershiresaus', '4411_zoetzuur', '425_k hloem', '3840_knolflook', '1042_ken-ie', '6380_kippevlees', '1563_sla-olie', '3686_soja-groentenburger', '995_(sesam)olie', '3678_cottage cheese', '5340_natuurazijn', '4904_artichokken', '4391_kruidnagelpoeder', '1042_kerrie', '6694_har n', '6541_(arachide)olie', '4612_spekjes', '5893_rode spaanse peper', '247_zachte bloem', '4997_kippebouillon', '1563_tong', '4978_rode pepertjes', '5259_appelen', '372_laurierbladen', '5568_prinsessebonen', '4411_aromat', '7417_kipp balletjes', '2063_si\"3 fc sap', '4612_gans', '3475_monchou', '3395_hyv sop', '7266_groene ingemaakte pepertjes', '4799_trassi', '320_stoofvlees', '1389_geelwortel', '945_oploskoffie', '3925_garnaal', '2063_dooiers', \"798_kiwi's\", '3255_brussels lof', '4799_salamblaadjes', '1465_doughnuts', '3370_(zuur)kool', '425_n°temuskaat', '3553_% cm', '7417_rin', '320_sukadelappen', '5004_blanke azijn', '5004_mie', '7419_gedroogi basilicum', '2675_vlees', '3475_tomaten', '7417_mirin', '5568_corned beaf', '4997_voorjaarsuitjes', '4710_rode lomboks', '4773_makreel', '4411_sperzieboontjes', \"1465_'nocrtn\", '2675_a j pelmeel', '1563_paling', '2857_witte dovenetel', '1293_delfia', '802_arachide-olie', '3678_cottage', '1042_slabladeren', '7417_sinaas* pelsap', '6159_kruidnagelpoeder', '995_zeevis', '3678_cheese', '6540_*ip', '6159_maïzena', '1127_bleekselderiestengels', '7419_geroosterde pijnboomp ten', '7417_komkom\"*', '5340_peulvruchten', '7034_noilly prat', '4773_kentjoor', '1293_aardnoten', '1042_250 graim', '6842_kiiof«eentje', '7419_noten', '4978_sjalotjes', '6849_dragonblad', '5340_v/t eetlepel', \"3686_avocado's\", '4391_bakkershoning', '6849_z°ut', '1150_kabeljauwkoppen', '3393_sjalotjes', '1150_filet', '320_rissotto', '1465_gehaktbal', '3393_pimpernel', '425_petersefc r', '247_farina di grano duro', '6380_rijstebloem', '4622_feuilleté-deeg', '1652_ci- vn,sap', '1042_pakrje', '247_harde bloem', '4997_rode pepers', '2857_paling', '3686_granen-burger', '247_loempiavellen', '7266_lamsvlees', '1815_hete soep', '4278_kastanjes', '4997_tai ming mie', '1652_cheddar kaas', '3686_zwarte olijf', '7417_zilvervlies', '7034_no prat', '6159_niunt', '1969_eierdooiers', '2089_ge-*-*. kookt kippevlees', '3393_bonekruid', '5893_rode peper', '372_stukjevlees', '1652_molsla', '4612_worst', '4278_kastanjepuree', '6380_kipkarkassen', '7034_champi? nons', '945_sinaasappelschil', '6694_mosterdpoeder', '247_warka-vellen', '7419_pa mezaanse kaas', '1176_makreel', '324_reuzel', '3393_vlierbloesem', '5341_vi theelepel', '5147_tamarindepasta', '6541_lente-uitjes', '7419_wa noten', '5340_v/2 deel', '3678_totjap', '874_sardientjes in olie', '3553_tahoe', '995_lente-uitjes', '5568_ansjovis filets', '4278_babykalkoen', '1042_saliebladeren', '3553_54 eetlepel', '4622_jonge hollandse kaas', '4278_gerookt spek', '3553_tahoeblokjes', '1293_delfrite', '6401_eitjes', '5568_kantarellen', '4612_blinde vinken', '5341_vz', '6915_z °ut', '3686_burger', '798_ananas', '320_kalfsknoken', '3393_uitjes', '7417_groene kool', '247_tarwegries', '5004_runderbouillonblokje', '5340_(zonnebloem)olie', \"7417_olijfoi'\", '5340_v» eetlepel', '7417_ve-tsin', '802_koffiebonen', '3925_frituurvet of -olie', '995_kalfslever', '995_chilipepertjes', '1150_kabeljauwwangetjes', '2089_kippevlees', '324_witte boter. a\">men', '7419_tagliatelle', '4710_trassi', \"7417_pad' stoel\", '5147_verse laoswortel', '4612_bonekruid', '324_foe°e', '4773_trassi', \"5893_pandora's\", '1389_appelen', '7419_p per', '425_°ar,anen', '995_kogelbiefstuk', '4773_gerookte of gestoomde makreel', '5341_boontjes', '6540_j\">otmuskaat', '6601_l °ut', '1042_koffie', '6541_boterbonen', '425_bietjes', '6849_oostindische kers', '1465_bo*', '2686_droge rode wijn', '3393_citroentijm', '6540_kippebouillon', '5568_kalfsborst', '1521_varkensvlees', '7417_hoe', '324_suier', '372_dorperwt.jes', '372_boter of vet van jus', '3840_brandnetelscheuten', '5568_stoofsla', '7034_cri me fraiche', '320_kippebouillon van een tablet'}\n"
     ]
    }
   ],
   "source": [
    "#gs_agg_ingr = aggframe_reset.loc[(aggframe_reset['category'] == 'INGREDIENTS') ]['values'].tolist()\n",
    "#agg_list_ingr = set(gs_agg_ingr[0])\n",
    "#prf_agg_ingr = prec_r_f(agg_list_ingr,sysout_agg)\n",
    "#print(prf_agg_ingr)\n",
    "\n",
    "gs_agg_ingr = aggframe_reset.loc[(aggframe_reset['category'] == 'INGREDIENTS')  ]['values'].tolist()\n",
    "gs_agg_ocr = aggframe_reset.loc[(aggframe_reset['category'] == 'OCR')  ]['values'].tolist()\n",
    "gs_agg_ocr_ing = (gs_agg_ocr[0] | gs_agg_ingr[0])\n",
    "#agg_list_ingr = set(gs_agg_ingr[0])\n",
    "prf_agg_ingr = prec_r_f(gs_agg_ocr_ing,sysout_agg)\n",
    "print(prf_agg_ingr)"
   ]
  },
  {
   "cell_type": "code",
   "execution_count": null,
   "metadata": {},
   "outputs": [],
   "source": []
  }
 ],
 "metadata": {
  "kernelspec": {
   "display_name": "Python 3",
   "language": "python",
   "name": "python3"
  },
  "language_info": {
   "codemirror_mode": {
    "name": "ipython",
    "version": 3
   },
   "file_extension": ".py",
   "mimetype": "text/x-python",
   "name": "python",
   "nbconvert_exporter": "python",
   "pygments_lexer": "ipython3",
   "version": "3.6.3"
  }
 },
 "nbformat": 4,
 "nbformat_minor": 2
}
