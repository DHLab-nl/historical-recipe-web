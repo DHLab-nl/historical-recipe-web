{
 "cells": [
  {
   "cell_type": "code",
   "execution_count": 21,
   "metadata": {},
   "outputs": [],
   "source": [
    "import pandas as pd\n",
    "import sys\n",
    "import nltk\n",
    "from nltk.corpus import alpino as alp\n",
    "from nltk.tokenize import sent_tokenize, RegexpTokenizer\n",
    "from nltk.tag.util import tuple2str\n",
    "import re \n",
    "import pickle\n",
    "import glob\n",
    "import numpy as np\n",
    "import seaborn as sns\n",
    "from sklearn.externals import joblib\n",
    "pd.set_option('display.max_colwidth', 250)\n",
    "import matplotlib.pyplot as plt\n",
    "%matplotlib inline\n",
    "plt.rcParams['figure.figsize'] = (12,8)"
   ]
  },
  {
   "cell_type": "code",
   "execution_count": 3,
   "metadata": {},
   "outputs": [
    {
     "data": {
      "image/png": "[encoded data removed]",
      "text/plain": [
       "<matplotlib.figure.Figure at 0x1a18861b70>"
      ]
     },
     "metadata": {},
     "output_type": "display_data"
    }
   ],
   "source": [
    "#format plots\n",
    "sns.set(style='white', context='notebook', font_scale=1.5, \n",
    "        rc={'font.sans-serif': 'DejaVu Sans', 'lines.linewidth': 2.5})\n",
    "\n",
    "colors = [\"windows blue\", \"amber\", \"greyish\", \"faded green\", \"dusty purple\"]\n",
    "sns.palplot(sns.xkcd_palette(colors))\n",
    "\n",
    "#create a color map\n",
    "blog_blue = '#64C0C0'\n",
    "blue_cmap = sns.light_palette(blog_blue, as_cmap=True)"
   ]
  },
  {
   "cell_type": "markdown",
   "metadata": {},
   "source": [
    "# Write pickles"
   ]
  },
  {
   "cell_type": "code",
   "execution_count": 4,
   "metadata": {},
   "outputs": [],
   "source": [
    "def write_pickle(output_, input_):\n",
    "    '''\n",
    "    output specifies where you want to write which file \n",
    "    input defines which variable you want to write as a pickle\n",
    "    '''\n",
    "    n_bytes = 2**31\n",
    "    max_bytes = 2**31 - 1\n",
    "    data = bytearray(n_bytes)\n",
    "    bytes_out = pickle.dumps(input_)\n",
    "    with open(output_, 'wb') as f_out:\n",
    "        for idx in range(0, n_bytes, max_bytes):\n",
    "            f_out.write(bytes_out[idx:idx+max_bytes])\n",
    "            \n",
    "\n",
    "def read_pickle(name):\n",
    "    n_bytes = 2**31\n",
    "    max_bytes = 2**31 - 1\n",
    "    data = bytearray(n_bytes)\n",
    "    bytes_in = bytearray(0)\n",
    "    input_size = os.path.getsize(name)\n",
    "    with open(name, 'rb') as f_in:\n",
    "        for _ in range(0, input_size, max_bytes):\n",
    "            bytes_in += f_in.read(max_bytes)\n",
    "    return pickle.loads(bytes_in)"
   ]
  },
  {
   "cell_type": "markdown",
   "metadata": {},
   "source": [
    "# Extract Recipes\n"
   ]
  },
  {
   "cell_type": "code",
   "execution_count": 4,
   "metadata": {},
   "outputs": [],
   "source": [
    "import os\n",
    "import glob\n",
    "import pandas as pd\n",
    "import warnings\n",
    "from sklearn.externals import joblib\n",
    "import numpy as np\n",
    "from nltk.tokenize import sent_tokenize, RegexpTokenizer\n",
    "import re\n",
    "\n",
    "warnings.filterwarnings('ignore')"
   ]
  },
  {
   "cell_type": "code",
   "execution_count": 6,
   "metadata": {},
   "outputs": [],
   "source": [
    "def extract_recipes(name):\n",
    "    '''\n",
    "    options for names include trouw, volkskrant, parool, or nrc\n",
    "    '''\n",
    "    \n",
    "    path = 'data/' + name\n",
    "    allFiles = glob.glob(path + \"/*.tsv\")\n",
    "    if name == 'nrc':\n",
    "        df = pd.concat((pd.read_csv(f, delimiter='\\t') for f in allFiles))\n",
    "    else:\n",
    "        df = pd.concat((pd.read_csv(f, delimiter='\\t', header=None) for f in allFiles))\n",
    "        df.columns = ['date', 'page', 'size', 'min_x', 'min_y', 'max_x', 'max_y', 'w', 'h', 'image_url', 'ocr_url', 'ocr']\n",
    "    print(\"imported \" + name + \" articles\")\n",
    "    drop_cols = ['min_x', 'min_y', 'max_x', 'max_y', 'image_url']\n",
    "    df = df.drop(drop_cols, axis=1)\n",
    "    df = df.dropna(subset =['ocr']) # remove lines with empty ocr field\n",
    "    df = df[~df['date'].str.contains('date')] #remove duplicate header rows\n",
    "    # remove files that contain error msg \n",
    "    excludes = ['objecttype', 'file directory not found']\n",
    "    df = df[~df['ocr'].astype(str).str.contains('|'.join(excludes))] #remove rows with restricted error msg\n",
    "    print(\"Total number of pages in \" + name + \" dataset: {}\".format(df.groupby('date')['page'].unique().count()))\n",
    "    print(\"Total number of articles in \" + name + \" dataset: {}\".format(df.shape[0]))\n",
    "    \n",
    "    # only select articles that contain specific query words\n",
    "    df = df[df['ocr'].str.contains(r'\\b(recept|recepten)\\b',case=False)]\n",
    "    df = df[df['ocr'].str.contains(r'\\b(gram|kilogram|pond|keuken|koken|kook|bakken|eetlepel|gerecht|theelepel|snijden)\\b',case=False)]\n",
    "    print(\"Recipes \" + name + \" Extracted\")\n",
    "    print(\"Total number of recipes in \" + name + \" dataset: {}\".format(df.shape[0]))\n",
    "    #df_recipes.to_csv(name + 'raw_recipes.csv')\n",
    "    return df"
   ]
  },
  {
   "cell_type": "code",
   "execution_count": 8,
   "metadata": {},
   "outputs": [],
   "source": [
    "def load_df(name):\n",
    "    '''\n",
    "    options for names include trouw, volkskrant, parool, or nrc\n",
    "    '''\n",
    "    \n",
    "    path = 'data/' + name\n",
    "    allFiles = glob.glob(path + \"/*.tsv\")\n",
    "    if name == 'nrc':\n",
    "        df = pd.concat((pd.read_csv(f, delimiter='\\t') for f in allFiles))\n",
    "    else:\n",
    "        df = pd.concat((pd.read_csv(f, delimiter='\\t', header=None) for f in allFiles))\n",
    "        df.columns = ['date', 'page', 'size', 'min_x', 'min_y', 'max_x', 'max_y', 'w', 'h', 'image_url', 'ocr_url', 'ocr']\n",
    "    print(\"imported \" + name + \" articles\")\n",
    "    drop_cols = ['min_x', 'min_y', 'max_x', 'max_y', 'image_url']\n",
    "    df = df.drop(drop_cols, axis=1)\n",
    "    df = df.dropna(subset =['ocr']) # remove lines with empty ocr field\n",
    "    df = df[~df['date'].str.contains('date')] #remove duplicate header rows\n",
    "    return df"
   ]
  },
  {
   "cell_type": "code",
   "execution_count": null,
   "metadata": {},
   "outputs": [],
   "source": [
    "nrc_recipes = extract_recipes('nrc')\n",
    "nrc_recipes.to_csv('./data/nrc_raw_recipes.csv')\n",
    "\n",
    "vk_recipes = extract_recipes('vk')\n",
    "vk_recipes.to_csv('./data/vk_raw_recipes.csv')\n",
    "\n",
    "trouw_recipes = extract_recipes('trouw')\n",
    "trouw_recipes.to_csv('./data/trouw_raw_recipes.csv')\n",
    "\n",
    "parool_recipes = extract_recipes('parool')\n",
    "parool_recipes.to_csv('./data/parool_raw_recipes.csv')"
   ]
  },
  {
   "cell_type": "markdown",
   "metadata": {},
   "source": [
    "# Create Clean Set of Recipes from Annotated Data"
   ]
  },
  {
   "cell_type": "markdown",
   "metadata": {},
   "source": [
    "I have handcoded the actual recipes in the extracted recipes extracting using the function extract_recipe."
   ]
  },
  {
   "cell_type": "markdown",
   "metadata": {},
   "source": [
    "## NRC"
   ]
  },
  {
   "cell_type": "code",
   "execution_count": 14,
   "metadata": {},
   "outputs": [
    {
     "data": {
      "text/plain": [
       "1.0    1913\n",
       "0.0     753\n",
       "Name: recipe, dtype: int64"
      ]
     },
     "execution_count": 14,
     "metadata": {},
     "output_type": "execute_result"
    }
   ],
   "source": [
    "nrc_recipes = pd.read_csv('./data/nrc_clean_recipes.csv', index_col=0)\n",
    "nrc_recipes['date'] = pd.to_datetime(nrc_recipes['date'])\n",
    "nrc_recipes = nrc_recipes.set_index(['date'], drop=False)\n",
    "nrc_recipes.recipe.value_counts()\n",
    "nrc_recipes['recipe'][nrc_recipes['recipe'] == 1].resample('12M').count().plot(title = 'Correct / False Recipes in NRC', figsize=(10,5))\n",
    "nrc_recipes['recipe'][nrc_recipes['recipe'] == 0].resample('12M').count().plot()"
   ]
  },
  {
   "cell_type": "code",
   "execution_count": 155,
   "metadata": {},
   "outputs": [
    {
     "data": {
      "text/plain": [
       "<matplotlib.axes._subplots.AxesSubplot at 0x1a49656400>"
      ]
     },
     "execution_count": 155,
     "metadata": {},
     "output_type": "execute_result"
    },
    {
     "data": {
      "image/png": "[encoded data removed]",
      "text/plain": [
       "<matplotlib.figure.Figure at 0x1a37be2fd0>"
      ]
     },
     "metadata": {},
     "output_type": "display_data"
    }
   ],
   "source": [
    "nrc_recipes['recipe'][nrc_recipes['recipe'] == 1].resample('12M').count().plot(title = 'Correct / False Recipes in NRC', figsize=(10,5))\n",
    "nrc_recipes['recipe'][nrc_recipes['recipe'] == 0].resample('12M').count().plot()"
   ]
  },
  {
   "cell_type": "code",
   "execution_count": 156,
   "metadata": {},
   "outputs": [],
   "source": [
    "nrc_correct = nrc_recipes[nrc_recipes['recipe'] == 1]\n",
    "nrc_false = nrc_recipes[nrc_recipes['recipe'] == 0]"
   ]
  },
  {
   "cell_type": "code",
   "execution_count": null,
   "metadata": {},
   "outputs": [],
   "source": [
    "#extract sample from newspaper articles\n",
    "nrc_df = load_df('nrc')\n",
    "nrc_sample = nrc_df[(~nrc_df.ocr_url.isin(nrc_correct.ocr_url))].sample(n=6000, random_state=10)"
   ]
  },
  {
   "cell_type": "markdown",
   "metadata": {},
   "source": [
    "## Volkskrant"
   ]
  },
  {
   "cell_type": "code",
   "execution_count": 13,
   "metadata": {},
   "outputs": [
    {
     "data": {
      "text/plain": [
       "1    1526\n",
       "0     796\n",
       "Name: recipe, dtype: int64"
      ]
     },
     "execution_count": 13,
     "metadata": {},
     "output_type": "execute_result"
    }
   ],
   "source": [
    "vk_recipes = pd.read_csv('./data/vk_clean_recipes.csv', index_col=0)\n",
    "vk_recipes['date'] = pd.to_datetime(vk_recipes['date'])\n",
    "vk_recipes = vk_recipes.set_index(['date'], drop=False)\n",
    "vk_recipes.recipe.value_counts()\n",
    "vk_recipes['recipe'][vk_recipes['recipe'] == 1].resample('12M').count().plot()"
   ]
  },
  {
   "cell_type": "code",
   "execution_count": 31,
   "metadata": {},
   "outputs": [
    {
     "data": {
      "text/plain": [
       "<matplotlib.axes._subplots.AxesSubplot at 0x1a308a90b8>"
      ]
     },
     "execution_count": 31,
     "metadata": {},
     "output_type": "execute_result"
    },
    {
     "data": {
      "image/png": "[encoded data removed]",
      "text/plain": [
       "<matplotlib.figure.Figure at 0x1a3089bda0>"
      ]
     },
     "metadata": {},
     "output_type": "display_data"
    }
   ],
   "source": [
    "vk_recipes['recipe'][vk_recipes['recipe'] == 1].resample('12M').count().plot(title = 'Correct / False Recipes in VK', figsize=(10,5))\n",
    "vk_recipes['recipe'][vk_recipes['recipe'] == 0].resample('12M').count().plot()"
   ]
  },
  {
   "cell_type": "code",
   "execution_count": 161,
   "metadata": {},
   "outputs": [
    {
     "data": {
      "text/plain": [
       "1    1526\n",
       "0     796\n",
       "Name: recipe, dtype: int64"
      ]
     },
     "execution_count": 161,
     "metadata": {},
     "output_type": "execute_result"
    }
   ],
   "source": [
    "vk_recipes['title'] = 'volkskrant'\n",
    "vk_correct = vk_recipes[vk_recipes['recipe'] == 1]\n",
    "vk_false = vk_recipes[vk_recipes['recipe'] == 0]\n",
    "vk_recipes.recipe.value_counts()"
   ]
  },
  {
   "cell_type": "code",
   "execution_count": null,
   "metadata": {},
   "outputs": [],
   "source": [
    "#extract sample from newspaper articles\n",
    "vk_df = load_df('nrc')\n",
    "vk_sample = vk_df[(~vk_df.ocr_url.isin(vk_correct.ocr_url))].sample(n=6000, random_state=10)"
   ]
  },
  {
   "cell_type": "markdown",
   "metadata": {},
   "source": [
    "# Trouw"
   ]
  },
  {
   "cell_type": "code",
   "execution_count": 3,
   "metadata": {},
   "outputs": [
    {
     "data": {
      "text/plain": [
       "<matplotlib.axes._subplots.AxesSubplot at 0x10a0c7ac8>"
      ]
     },
     "execution_count": 3,
     "metadata": {},
     "output_type": "execute_result"
    }
   ],
   "source": [
    "trouw_recipes = pd.read_csv('./data/trouw_clean_recipes.csv', index_col=0)\n",
    "trouw_recipes['date'] = pd.to_datetime(trouw_recipes['date'])\n",
    "trouw_recipes = trouw_recipes.set_index(['date'], drop=False)\n",
    "trouw_recipes.recipe.value_counts()\n",
    "trouw_recipes['recipe'][trouw_recipes['recipe'] == 1].resample('12M').count().plot(title = 'Correct / False Recipes in Trouw', figsize=(10,5))\n",
    "trouw_recipes['recipe'][trouw_recipes['recipe'] == 0].resample('12M').count().plot()"
   ]
  },
  {
   "cell_type": "code",
   "execution_count": 24,
   "metadata": {},
   "outputs": [
    {
     "data": {
      "text/plain": [
       "<matplotlib.axes._subplots.AxesSubplot at 0x1a37e092b0>"
      ]
     },
     "execution_count": 24,
     "metadata": {},
     "output_type": "execute_result"
    },
    {
     "data": {
      "image/png": "[encoded data removed]",
      "text/plain": [
       "<matplotlib.figure.Figure at 0x1a63f9ae10>"
      ]
     },
     "metadata": {},
     "output_type": "display_data"
    }
   ],
   "source": [
    "trouw_recipes['recipe'][trouw_recipes['recipe'] == 1].resample('12M').count().plot(title = 'Correct / False Recipes in Trouw', figsize=(10,5))\n",
    "trouw_recipes['recipe'][trouw_recipes['recipe'] == 0].resample('12M').count().plot()"
   ]
  },
  {
   "cell_type": "code",
   "execution_count": 25,
   "metadata": {},
   "outputs": [
    {
     "data": {
      "text/plain": [
       "1    2568\n",
       "0     926\n",
       "Name: recipe, dtype: int64"
      ]
     },
     "execution_count": 25,
     "metadata": {},
     "output_type": "execute_result"
    }
   ],
   "source": [
    "trouw_recipes['title'] = 'trouw'\n",
    "trouw_correct = trouw_recipes[trouw_recipes['recipe'] == 1]\n",
    "trouw_false = trouw_recipes[trouw_recipes['recipe'] == 0]\n",
    "trouw_recipes.recipe.value_counts()"
   ]
  },
  {
   "cell_type": "code",
   "execution_count": null,
   "metadata": {},
   "outputs": [],
   "source": [
    "#extract sample from newspaper articles\n",
    "trouw_df = load_df('trouw')\n",
    "trouw_sample = trouw_df[(~trouw_df.ocr_url.isin(trouw_correct.ocr_url))].sample(n=6000, random_state=10)"
   ]
  },
  {
   "cell_type": "markdown",
   "metadata": {},
   "source": [
    "## Parool recipes"
   ]
  },
  {
   "cell_type": "markdown",
   "metadata": {},
   "source": [
    "### Import Clean Set"
   ]
  },
  {
   "cell_type": "code",
   "execution_count": 4,
   "metadata": {},
   "outputs": [
    {
     "data": {
      "text/plain": [
       "1    1481\n",
       "0     971\n",
       "Name: recipe, dtype: int64"
      ]
     },
     "execution_count": 4,
     "metadata": {},
     "output_type": "execute_result"
    }
   ],
   "source": [
    "\n",
    "parool_recipes = pd.read_csv('./data/parool_clean_recipes.csv', index_col=0, header=None, names=cols)\n",
    "parool_recipes['date'] = parool_recipes['date'].astype('datetime64[ns]')\n",
    "parool_recipes['date'] = pd.to_datetime(parool_recipes['date'])\n",
    "parool_recipes = parool_recipes.set_index(['date'], drop=False)\n",
    "parool_recipes.recipe.value_counts()"
   ]
  },
  {
   "cell_type": "code",
   "execution_count": 30,
   "metadata": {},
   "outputs": [
    {
     "data": {
      "text/plain": [
       "<matplotlib.axes._subplots.AxesSubplot at 0x1a3083e9b0>"
      ]
     },
     "execution_count": 30,
     "metadata": {},
     "output_type": "execute_result"
    },
    {
     "data": {
      "image/png": "[encoded data removed]",
      "text/plain": [
       "<matplotlib.figure.Figure at 0x1a3083e8d0>"
      ]
     },
     "metadata": {},
     "output_type": "display_data"
    }
   ],
   "source": [
    "parool_recipes['recipe'][parool_recipes['recipe'] == 1].resample('12M').count().plot(title = 'Correct / False Recipes in Parool', figsize=(10,5))\n",
    "parool_recipes['recipe'][parool_recipes['recipe'] == 0].resample('12M').count().plot()"
   ]
  },
  {
   "cell_type": "code",
   "execution_count": 84,
   "metadata": {},
   "outputs": [],
   "source": [
    "parool_recipes['title'] = 'parool'\n",
    "parool_correct = parool_recipes[parool_recipes['recipe'] == 1]\n",
    "parool_false = parool_recipes[parool_recipes['recipe'] == 0]"
   ]
  },
  {
   "cell_type": "code",
   "execution_count": null,
   "metadata": {},
   "outputs": [],
   "source": [
    "#extract sample from newspaper articles\n",
    "parool_df = load_df('parool')\n",
    "parool_sample = parool_df[(~parool_df.ocr_url.isin(parool_correct.ocr_url))].sample(n=6000, random_state=10)"
   ]
  },
  {
   "cell_type": "markdown",
   "metadata": {},
   "source": [
    "# Final dataset"
   ]
  },
  {
   "cell_type": "code",
   "execution_count": 85,
   "metadata": {},
   "outputs": [
    {
     "ename": "NameError",
     "evalue": "name 'trouw_false' is not defined",
     "output_type": "error",
     "traceback": [
      "\u001b[0;31m---------------------------------------------------------------------------\u001b[0m",
      "\u001b[0;31mNameError\u001b[0m                                 Traceback (most recent call last)",
      "\u001b[0;32m<ipython-input-85-eb125754ec7e>\u001b[0m in \u001b[0;36m<module>\u001b[0;34m()\u001b[0m\n\u001b[1;32m      1\u001b[0m \u001b[0;31m# dataset with articles falsely queried as recipes\u001b[0m\u001b[0;34m\u001b[0m\u001b[0;34m\u001b[0m\u001b[0m\n\u001b[0;32m----> 2\u001b[0;31m \u001b[0mrecipes_removed\u001b[0m \u001b[0;34m=\u001b[0m \u001b[0mpd\u001b[0m\u001b[0;34m.\u001b[0m\u001b[0mconcat\u001b[0m\u001b[0;34m(\u001b[0m\u001b[0;34m[\u001b[0m\u001b[0mvk_false\u001b[0m\u001b[0;34m,\u001b[0m \u001b[0mparool_false\u001b[0m\u001b[0;34m,\u001b[0m \u001b[0mtrouw_false\u001b[0m\u001b[0;34m,\u001b[0m \u001b[0mnrc_false\u001b[0m\u001b[0;34m]\u001b[0m\u001b[0;34m)\u001b[0m\u001b[0;34m\u001b[0m\u001b[0m\n\u001b[0m\u001b[1;32m      3\u001b[0m \u001b[0mrecipes_removed\u001b[0m\u001b[0;34m[\u001b[0m\u001b[0;34m'type'\u001b[0m\u001b[0;34m]\u001b[0m \u001b[0;34m=\u001b[0m \u001b[0;34m'articles'\u001b[0m\u001b[0;34m\u001b[0m\u001b[0m\n\u001b[1;32m      4\u001b[0m \u001b[0mdrop_cols\u001b[0m \u001b[0;34m=\u001b[0m \u001b[0;34m[\u001b[0m\u001b[0;34m'h'\u001b[0m\u001b[0;34m,\u001b[0m \u001b[0;34m'publication_day'\u001b[0m\u001b[0;34m,\u001b[0m \u001b[0;34m'publication_month'\u001b[0m\u001b[0;34m,\u001b[0m \u001b[0;34m'publication_year'\u001b[0m\u001b[0;34m,\u001b[0m \u001b[0;34m'recipe'\u001b[0m\u001b[0;34m,\u001b[0m \u001b[0;34m'size'\u001b[0m\u001b[0;34m,\u001b[0m \u001b[0;34m'w'\u001b[0m\u001b[0;34m]\u001b[0m\u001b[0;34m\u001b[0m\u001b[0m\n\u001b[1;32m      5\u001b[0m \u001b[0mrecipes_removed\u001b[0m \u001b[0;34m=\u001b[0m \u001b[0mrecipes_removed\u001b[0m\u001b[0;34m.\u001b[0m\u001b[0mdrop\u001b[0m\u001b[0;34m(\u001b[0m\u001b[0mdrop_cols\u001b[0m\u001b[0;34m,\u001b[0m \u001b[0maxis\u001b[0m\u001b[0;34m=\u001b[0m\u001b[0;36m1\u001b[0m\u001b[0;34m)\u001b[0m\u001b[0;34m.\u001b[0m\u001b[0mreset_index\u001b[0m\u001b[0;34m(\u001b[0m\u001b[0mdrop\u001b[0m\u001b[0;34m=\u001b[0m\u001b[0;32mTrue\u001b[0m\u001b[0;34m)\u001b[0m\u001b[0;34m\u001b[0m\u001b[0m\n",
      "\u001b[0;31mNameError\u001b[0m: name 'trouw_false' is not defined"
     ]
    }
   ],
   "source": [
    "# dataset with articles falsely queried as recipes\n",
    "recipes_removed = pd.concat([vk_false, parool_false, trouw_false, nrc_false])\n",
    "recipes_removed['type'] = 'articles'\n",
    "drop_cols = ['h', 'publication_day', 'publication_month', 'publication_year', 'recipe', 'size', 'w']\n",
    "recipes_removed = recipes_removed.drop(drop_cols, axis=1).reset_index(drop=True)"
   ]
  },
  {
   "cell_type": "code",
   "execution_count": 152,
   "metadata": {},
   "outputs": [
    {
     "ename": "NameError",
     "evalue": "name 'vk_correct' is not defined",
     "output_type": "error",
     "traceback": [
      "\u001b[0;31m---------------------------------------------------------------------------\u001b[0m",
      "\u001b[0;31mNameError\u001b[0m                                 Traceback (most recent call last)",
      "\u001b[0;32m<ipython-input-152-ef38da04e1a4>\u001b[0m in \u001b[0;36m<module>\u001b[0;34m()\u001b[0m\n\u001b[1;32m      1\u001b[0m \u001b[0;31m# dataset with recipes\u001b[0m\u001b[0;34m\u001b[0m\u001b[0;34m\u001b[0m\u001b[0m\n\u001b[0;32m----> 2\u001b[0;31m \u001b[0mrecipes\u001b[0m \u001b[0;34m=\u001b[0m \u001b[0mpd\u001b[0m\u001b[0;34m.\u001b[0m\u001b[0mconcat\u001b[0m\u001b[0;34m(\u001b[0m\u001b[0;34m[\u001b[0m\u001b[0mvk_correct\u001b[0m\u001b[0;34m,\u001b[0m \u001b[0mparool_correct\u001b[0m\u001b[0;34m,\u001b[0m \u001b[0mtrouw_correct\u001b[0m\u001b[0;34m,\u001b[0m \u001b[0mnrc_correct\u001b[0m\u001b[0;34m]\u001b[0m\u001b[0;34m)\u001b[0m\u001b[0;34m\u001b[0m\u001b[0m\n\u001b[0m\u001b[1;32m      3\u001b[0m \u001b[0mrecipes\u001b[0m\u001b[0;34m[\u001b[0m\u001b[0;34m'type'\u001b[0m\u001b[0;34m]\u001b[0m \u001b[0;34m=\u001b[0m \u001b[0;34m'recipes'\u001b[0m\u001b[0;34m\u001b[0m\u001b[0m\n\u001b[1;32m      4\u001b[0m \u001b[0mrecipes\u001b[0m \u001b[0;34m=\u001b[0m \u001b[0mrecipes\u001b[0m\u001b[0;34m.\u001b[0m\u001b[0mdrop\u001b[0m\u001b[0;34m(\u001b[0m\u001b[0mdrop_cols\u001b[0m\u001b[0;34m,\u001b[0m \u001b[0maxis\u001b[0m\u001b[0;34m=\u001b[0m\u001b[0;36m1\u001b[0m\u001b[0;34m)\u001b[0m\u001b[0;34m.\u001b[0m\u001b[0mreset_index\u001b[0m\u001b[0;34m(\u001b[0m\u001b[0mdrop\u001b[0m\u001b[0;34m=\u001b[0m\u001b[0;32mTrue\u001b[0m\u001b[0;34m)\u001b[0m\u001b[0;34m\u001b[0m\u001b[0m\n",
      "\u001b[0;31mNameError\u001b[0m: name 'vk_correct' is not defined"
     ]
    }
   ],
   "source": [
    "# dataset with recipes\n",
    "recipes = pd.concat([vk_correct, parool_correct, trouw_correct, nrc_correct])\n",
    "recipes['type'] = 'recipes'\n",
    "recipes = recipes.drop(drop_cols, axis=1).reset_index(drop=True)"
   ]
  },
  {
   "cell_type": "code",
   "execution_count": null,
   "metadata": {},
   "outputs": [],
   "source": [
    "# random articles from three newspapers\n",
    "random_articles = pd.concat([nrc_sample, vk_sample, trouw_sample, parool_sample])\n",
    "random_articles['type'] = 'articles'\n",
    "random_articles = random_articles.drop(['h', 'size', 'w'], axis=1).reset_index(drop=True)"
   ]
  },
  {
   "cell_type": "code",
   "execution_count": null,
   "metadata": {},
   "outputs": [],
   "source": [
    "#final dataset\n",
    "dataset = pd.concat([recipes_removed, recipes, random_articles])\n",
    "dataset.ocr = dataset.ocr.astype(str)\n",
    "\n",
    "#remove query words from articles to improve classifier\n",
    "stop_words = ['recept', 'recepten', 'gram', \n",
    "             'kilogram', 'pond' ,'keuken', 'koken', 'kook',\n",
    "             'bakken', 'eetlepel', 'gerecht', 'theelepel', 'snijden']\n",
    "\n",
    "dataset['ocr_without_stopwords'] = dataset['ocr'].apply(lambda x: ' '.join([word for word in x.split() if word.lower() not in (stop_words)]))\n",
    "dataset = dataset.dropna()"
   ]
  },
  {
   "cell_type": "code",
   "execution_count": null,
   "metadata": {},
   "outputs": [],
   "source": [
    "#export dataset to pickle\n",
    "write_pickle('./data/recipe_dataset.pkl', dataset)"
   ]
  },
  {
   "cell_type": "code",
   "execution_count": 112,
   "metadata": {},
   "outputs": [],
   "source": []
  },
  {
   "cell_type": "code",
   "execution_count": null,
   "metadata": {},
   "outputs": [],
   "source": []
  },
  {
   "cell_type": "code",
   "execution_count": null,
   "metadata": {},
   "outputs": [],
   "source": []
  },
  {
   "cell_type": "code",
   "execution_count": null,
   "metadata": {},
   "outputs": [],
   "source": []
  },
  {
   "cell_type": "code",
   "execution_count": null,
   "metadata": {},
   "outputs": [],
   "source": []
  },
  {
   "cell_type": "code",
   "execution_count": null,
   "metadata": {},
   "outputs": [],
   "source": []
  },
  {
   "cell_type": "code",
   "execution_count": null,
   "metadata": {},
   "outputs": [],
   "source": []
  },
  {
   "cell_type": "code",
   "execution_count": null,
   "metadata": {},
   "outputs": [],
   "source": []
  },
  {
   "cell_type": "code",
   "execution_count": null,
   "metadata": {},
   "outputs": [],
   "source": []
  },
  {
   "cell_type": "code",
   "execution_count": null,
   "metadata": {},
   "outputs": [],
   "source": []
  },
  {
   "cell_type": "code",
   "execution_count": null,
   "metadata": {},
   "outputs": [],
   "source": []
  },
  {
   "cell_type": "markdown",
   "metadata": {},
   "source": [
    "## Classify Recipes"
   ]
  },
  {
   "cell_type": "code",
   "execution_count": null,
   "metadata": {},
   "outputs": [],
   "source": [
    "def classify_recipes(df):\n",
    "    clf = joblib.load('./models/ah_tags.pkl')\n",
    "    lb = joblib.load('./models/ah_classes.pkl')\n",
    "    X_test = df.ocr\n",
    "    predictions = clf.predict(X_test)\n",
    "    all_predicted_tags = []\n",
    "    for index in range(predictions.shape[0]):\n",
    "        all_predicted_tags.append(', '.join(list(lb.classes_[np.where(predictions[index, :] == 1)[0]])))\n",
    "    tags = pd.Series(all_predicted_tags)\n",
    "    df['predicted_tags'] = tags.values\n",
    "    print(\"tags predicted!\")\n",
    "    return df"
   ]
  },
  {
   "cell_type": "markdown",
   "metadata": {},
   "source": [
    "## Extract Ingredients and Quantities from Recipes"
   ]
  },
  {
   "cell_type": "markdown",
   "metadata": {},
   "source": [
    "* to do: add new list of ingredients plus quantities."
   ]
  },
  {
   "cell_type": "code",
   "execution_count": null,
   "metadata": {},
   "outputs": [],
   "source": [
    "# POS tagging could be removed possibly, this would also simplify the regexes \n",
    "# This code can be much faster when using pandas vectorization \n",
    "\n",
    "def import_list():\n",
    "## IMPORT NEW LIST\n",
    "# import the list of ingredients \n",
    "# Complete list seems to result in a slightly higher recall  \n",
    "\tlist_ = []\n",
    "#\twith open(\"ingredient_list.csv\", 'r') as x: # yes it's hard coded, not so neat\n",
    "\twith open(\"./data/unique_ingredients.csv\", 'r') as x: # yes it's hard coded, not so neat\n",
    "\t\tfor line in x:\n",
    "\t\t\tline = line.rstrip()\n",
    "\t\t\telems = line.split(\"_\")\n",
    "\t\t\tif len(elems) < 2:\n",
    "\t\t\t\tlist_.append(elems[0])\n",
    "\treturn(list_)\n",
    "\n",
    "def preprocess_text(t):\n",
    "\ttagged_list_ = []\n",
    "\ttokenizer = RegexpTokenizer(r'\\w+')\n",
    "\twords = tokenizer.tokenize(t)\n",
    "\twords = \" \".join(words)\n",
    "\treturn(words)\n",
    "\n",
    "def detect_ingredients(text,list_):\n",
    "\tingredients = [] \n",
    "\tfor x in list_:\n",
    "\t\tx = \" \" + x +\" \"\n",
    "\t\tingredient = re.search(x, text)\n",
    "\t\tif ingredient:\n",
    "\t\t\t ingredients.append(ingredient.group().rstrip())\n",
    "\t\tunique_ingredients = set(ingredients)        \n",
    "\treturn(unique_ingredients)\n",
    "\n",
    "\n",
    "def detect_quantities(text,ing_list):\n",
    "# Loop through the text again with the ingredients and see if you can find a quantity \n",
    "\tquantities_ingr = [] \n",
    "\tingredients_matched_copy = []\n",
    "    metrics = []\n",
    "    with open(\"./data/unique_units.csv\", 'r') as x: # yes it's hard coded, not so neat\n",
    "\t\tfor line in x:\n",
    "\t\t\tline = line.rstrip()\n",
    "\t\t\tmetrics.append(line)\n",
    "\treturn(metrics)\n",
    "\t#metrics = ['dl', 'gr', 'gram', 'eetlepel', 'el', 'theelepel', 'tl', 'snufje', 'snuf', 'ml', 'g']\n",
    "\tfor y in ing_list:\n",
    "\t\tfor z in metrics: \n",
    "\t\t\tmy_regex = \"[0-9]* \" + z + y + \"|[0-9]* \" + z + y + \"|[0-9]+\" + y\n",
    "\t\t\tquantity = re.search(my_regex, text)\n",
    "\t\t\tif quantity:\n",
    "\t\t\t\tquantities_ingr.append(quantity.group())\n",
    "\t\t\t\tingredients_matched_copy.append(y)\n",
    "\t# Do something smart so you get one list with items for which you found quantities and items for which you didn't                \n",
    "\tcopy_ingrs = ing_list\n",
    "\tfor item in ingredients_matched_copy:\n",
    "\t\ttry:\n",
    "\t\t\tcopy_ingrs.remove(item) \n",
    "\t\texcept:\n",
    "\t\t\tpass        \n",
    "\tmerged = list(copy_ingrs) + quantities_ingr\n",
    "\tunique = set(merged)\n",
    "\treturn(unique)\n",
    "\n",
    "def extract_ingredients(t):\n",
    "    processed_text = preprocess_text(t)\n",
    "    found_ingredients = detect_ingredients(processed_text, allerhande_ingredients)\n",
    "    ingr_and_quant = detect_quantities(processed_text, found_ingredients)\n",
    "    return(ingr_and_quant)"
   ]
  },
  {
   "cell_type": "code",
   "execution_count": null,
   "metadata": {},
   "outputs": [],
   "source": [
    "#classify recipes\n",
    "\n",
    "nrc_recipes = classify_recipes(nrc_recipes)\n",
    "volkskant_recipes = classify_recipes(vk_recipes)\n",
    "trouw_recipes = classify_recipes(trouw_recipes)\n",
    "parool_recipes = classify_recipes(parool_recipes)"
   ]
  },
  {
   "cell_type": "code",
   "execution_count": null,
   "metadata": {},
   "outputs": [],
   "source": [
    "#extract ingredients and add them to the df\n",
    "allerhande_ingredients = import_list()\n",
    "nrc_recipes['ingredients_quantities'] = nrc_recipes.ocr.apply(extract_ingredients)\n",
    "vk_recipes['ingredients_quantities'] = vk_recipes.ocr.apply(extract_ingredients)\n",
    "trouw_recipes['ingredients_quantities'] = trouw_recipes.ocr.apply(extract_ingredients)\n",
    "parool_recipes['ingredients_quantities'] = parool_recipes.ocr.apply(extract_ingredients)"
   ]
  },
  {
   "cell_type": "code",
   "execution_count": null,
   "metadata": {},
   "outputs": [],
   "source": [
    "nrc_recipes.to_csv('./data/nrc_recipes.csv')\n",
    "vk_recipes.to_csv('./data/vk_recipes.csv')\n",
    "trouw_recipes.to_csv('./data/trouw_recipes.csv')\n",
    "parool_recipes.to_csv('./data/parool_recipes.csv')"
   ]
  },
  {
   "cell_type": "code",
   "execution_count": null,
   "metadata": {},
   "outputs": [],
   "source": [
    "nrc_recipes.to_json(\"./data/nrc_recipes.json\", orient=\"records\")\n",
    "vk_recipes.to_json(\"./data/vk_recipes.json\", orient=\"records\")\n",
    "trouw_recipes.to_json(\"./data/trouw_recipes.json\", orient=\"records\")\n",
    "parool_recipes.to_json(\"./data/parool_recipes.json\", orient=\"records\")"
   ]
  },
  {
   "cell_type": "code",
   "execution_count": null,
   "metadata": {},
   "outputs": [],
   "source": [
    "x"
   ]
  }
 ],
 "metadata": {
  "kernelspec": {
   "display_name": "Python 3",
   "language": "python",
   "name": "python3"
  },
  "language_info": {
   "codemirror_mode": {
    "name": "ipython",
    "version": 3
   },
   "file_extension": ".py",
   "mimetype": "text/x-python",
   "name": "python",
   "nbconvert_exporter": "python",
   "pygments_lexer": "ipython3",
   "version": "3.6.2"
  }
 },
 "nbformat": 4,
 "nbformat_minor": 2
}
